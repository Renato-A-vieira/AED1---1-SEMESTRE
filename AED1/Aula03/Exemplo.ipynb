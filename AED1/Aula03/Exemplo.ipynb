{
 "cells": [
  {
   "cell_type": "code",
   "execution_count": 1,
   "id": "83fa3202-f47f-4465-9905-9794e62f8c71",
   "metadata": {},
   "outputs": [
    {
     "data": {
      "text/plain": [
       "5"
      ]
     },
     "execution_count": 1,
     "metadata": {},
     "output_type": "execute_result"
    }
   ],
   "source": [
    "2+3"
   ]
  },
  {
   "cell_type": "code",
   "execution_count": 10,
   "id": "e76a6f86-68a2-4631-8f30-9641d3f2e19a",
   "metadata": {},
   "outputs": [
    {
     "name": "stdout",
     "output_type": "stream",
     "text": [
      "ola mundo\n"
     ]
    }
   ],
   "source": [
    "print (\"ola mundo\") #Era pra ser Vai Corinthians"
   ]
  },
  {
   "cell_type": "code",
   "execution_count": 3,
   "id": "f6c9e573-25dc-4f5d-8f6f-2eea444df56a",
   "metadata": {},
   "outputs": [],
   "source": [
    "PI = 3.14159"
   ]
  },
  {
   "cell_type": "code",
   "execution_count": 5,
   "id": "d04af63f-21e1-4203-bc1f-aa75d4afd7a2",
   "metadata": {},
   "outputs": [],
   "source": [
    "x = 40"
   ]
  },
  {
   "cell_type": "code",
   "execution_count": 7,
   "id": "03a4cde2-9b1f-4bf3-b65c-b972fa7ed0bf",
   "metadata": {},
   "outputs": [],
   "source": [
    "y = 20"
   ]
  },
  {
   "cell_type": "code",
   "execution_count": 9,
   "id": "5f01074f-ddb4-4fd9-9bc3-d61946afb249",
   "metadata": {},
   "outputs": [],
   "source": [
    "z = x + y"
   ]
  },
  {
   "cell_type": "code",
   "execution_count": 11,
   "id": "e3319827-72da-491f-9fe0-e992ac568b42",
   "metadata": {},
   "outputs": [
    {
     "name": "stdout",
     "output_type": "stream",
     "text": [
      "60\n"
     ]
    }
   ],
   "source": [
    "print (x+y)"
   ]
  },
  {
   "cell_type": "code",
   "execution_count": 13,
   "id": "c960e9b4-0e53-435b-a801-2a16a4d4ea49",
   "metadata": {},
   "outputs": [
    {
     "name": "stdout",
     "output_type": "stream",
     "text": [
      "1300\n"
     ]
    }
   ],
   "source": [
    "print (x+z+y*z)"
   ]
  },
  {
   "cell_type": "code",
   "execution_count": 17,
   "id": "1f9d3d5a-cd4f-40db-8680-3a7fb36c0887",
   "metadata": {},
   "outputs": [],
   "source": [
    "nome = \"Amanda\""
   ]
  },
  {
   "cell_type": "code",
   "execution_count": 19,
   "id": "9a781f00-75df-4aa1-a1a0-78992a0d6f99",
   "metadata": {},
   "outputs": [],
   "source": [
    "idade = 30"
   ]
  },
  {
   "cell_type": "code",
   "execution_count": 43,
   "id": "e0639932-0d00-4c71-9079-deadb5da1aba",
   "metadata": {},
   "outputs": [],
   "source": [
    "profissao = \"Enfermeira\""
   ]
  },
  {
   "cell_type": "code",
   "execution_count": 47,
   "id": "1a137d23-cd5e-4da2-8033-2f237cc0c186",
   "metadata": {},
   "outputs": [
    {
     "name": "stdout",
     "output_type": "stream",
     "text": [
      "Amanda tem 30 anos e trabalha como Enfermeira\n"
     ]
    }
   ],
   "source": [
    "print (nome, \"tem\", idade, \"anos\",\"e trabalha como\", profissao)"
   ]
  },
  {
   "cell_type": "code",
   "execution_count": 51,
   "id": "9b86b7bf-832f-4991-bf76-219589aac942",
   "metadata": {},
   "outputs": [
    {
     "data": {
      "text/plain": [
       "str"
      ]
     },
     "execution_count": 51,
     "metadata": {},
     "output_type": "execute_result"
    }
   ],
   "source": [
    "type(nome)"
   ]
  },
  {
   "cell_type": "code",
   "execution_count": 53,
   "id": "4fac1c88-46eb-46d9-a68a-06024d11c13e",
   "metadata": {},
   "outputs": [
    {
     "data": {
      "text/plain": [
       "int"
      ]
     },
     "execution_count": 53,
     "metadata": {},
     "output_type": "execute_result"
    }
   ],
   "source": [
    "type(x)"
   ]
  },
  {
   "cell_type": "code",
   "execution_count": 55,
   "id": "98e2a6e8-0d6a-48fb-8a03-71f492ba4ee5",
   "metadata": {},
   "outputs": [
    {
     "data": {
      "text/plain": [
       "int"
      ]
     },
     "execution_count": 55,
     "metadata": {},
     "output_type": "execute_result"
    }
   ],
   "source": [
    "type(z)"
   ]
  },
  {
   "cell_type": "code",
   "execution_count": 57,
   "id": "c9f1c599-09dc-4700-adaf-d566f9cb7d9f",
   "metadata": {},
   "outputs": [
    {
     "data": {
      "text/plain": [
       "int"
      ]
     },
     "execution_count": 57,
     "metadata": {},
     "output_type": "execute_result"
    }
   ],
   "source": [
    "type(30)"
   ]
  },
  {
   "cell_type": "code",
   "execution_count": 59,
   "id": "d82a4396-23ff-43ac-ad99-a2e32d09631e",
   "metadata": {},
   "outputs": [],
   "source": [
    "r = 4.5"
   ]
  },
  {
   "cell_type": "code",
   "execution_count": 61,
   "id": "4d4f512d-4a21-473a-9f85-f2417ae4fd0b",
   "metadata": {},
   "outputs": [
    {
     "data": {
      "text/plain": [
       "float"
      ]
     },
     "execution_count": 61,
     "metadata": {},
     "output_type": "execute_result"
    }
   ],
   "source": [
    "type(r)"
   ]
  },
  {
   "cell_type": "code",
   "execution_count": 65,
   "id": "a4df217f-ae41-4926-b9d5-c63e356e32d2",
   "metadata": {},
   "outputs": [],
   "source": [
    "b = True"
   ]
  },
  {
   "cell_type": "code",
   "execution_count": 67,
   "id": "a8199861-45f7-456d-9aeb-d59dc8bf66c1",
   "metadata": {},
   "outputs": [
    {
     "data": {
      "text/plain": [
       "True"
      ]
     },
     "execution_count": 67,
     "metadata": {},
     "output_type": "execute_result"
    }
   ],
   "source": [
    "b"
   ]
  },
  {
   "cell_type": "code",
   "execution_count": 73,
   "id": "67ddcd2f-a54b-4820-b642-57eb53d08bcf",
   "metadata": {},
   "outputs": [
    {
     "data": {
      "text/plain": [
       "bool"
      ]
     },
     "execution_count": 73,
     "metadata": {},
     "output_type": "execute_result"
    }
   ],
   "source": [
    "type(b)"
   ]
  },
  {
   "cell_type": "code",
   "execution_count": 75,
   "id": "b758b2a5-7c42-4469-a453-848b3a5fb2f2",
   "metadata": {},
   "outputs": [],
   "source": [
    "x = float (y)"
   ]
  },
  {
   "cell_type": "code",
   "execution_count": 77,
   "id": "7fd14b09-6a9b-41f8-bff3-0d1035270ba5",
   "metadata": {},
   "outputs": [
    {
     "data": {
      "text/plain": [
       "20.0"
      ]
     },
     "execution_count": 77,
     "metadata": {},
     "output_type": "execute_result"
    }
   ],
   "source": [
    "x"
   ]
  },
  {
   "cell_type": "code",
   "execution_count": 79,
   "id": "4dd243ff-240b-4c30-9794-e34831e75fbd",
   "metadata": {},
   "outputs": [
    {
     "data": {
      "text/plain": [
       "20"
      ]
     },
     "execution_count": 79,
     "metadata": {},
     "output_type": "execute_result"
    }
   ],
   "source": [
    "y"
   ]
  },
  {
   "cell_type": "code",
   "execution_count": null,
   "id": "b87415f0-bd04-4108-a859-3d0f8321b2d5",
   "metadata": {},
   "outputs": [],
   "source": []
  }
 ],
 "metadata": {
  "kernelspec": {
   "display_name": "Python [conda env:base] *",
   "language": "python",
   "name": "conda-base-py"
  },
  "language_info": {
   "codemirror_mode": {
    "name": "ipython",
    "version": 3
   },
   "file_extension": ".py",
   "mimetype": "text/x-python",
   "name": "python",
   "nbconvert_exporter": "python",
   "pygments_lexer": "ipython3",
   "version": "3.12.7"
  }
 },
 "nbformat": 4,
 "nbformat_minor": 5
}
