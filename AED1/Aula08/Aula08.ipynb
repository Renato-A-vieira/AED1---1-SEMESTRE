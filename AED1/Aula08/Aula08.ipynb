{
 "cells": [
  {
   "cell_type": "code",
   "execution_count": null,
   "id": "65d1ee9e-5136-47d5-9750-c6c1c276e8e0",
   "metadata": {},
   "outputs": [],
   "source": []
  },
  {
   "cell_type": "code",
   "execution_count": 34,
   "id": "7431fe47-c014-4262-956c-cc7ceb537efb",
   "metadata": {},
   "outputs": [
    {
     "name": "stdin",
     "output_type": "stream",
     "text": [
      "Digite um numero de 1 a 50 34\n"
     ]
    },
    {
     "name": "stdout",
     "output_type": "stream",
     "text": [
      "Você tem 10 tentativas. \n"
     ]
    },
    {
     "name": "stdin",
     "output_type": "stream",
     "text": [
      "\n",
      "Tentativa 1:  45\n"
     ]
    },
    {
     "name": "stdout",
     "output_type": "stream",
     "text": [
      "O numero é menor\n"
     ]
    },
    {
     "name": "stdin",
     "output_type": "stream",
     "text": [
      "\n",
      "Tentativa 2:  34\n"
     ]
    },
    {
     "name": "stdout",
     "output_type": "stream",
     "text": [
      "O numero é menor\n"
     ]
    },
    {
     "name": "stdin",
     "output_type": "stream",
     "text": [
      "\n",
      "Tentativa 3:  20\n"
     ]
    },
    {
     "name": "stdout",
     "output_type": "stream",
     "text": [
      "O numero é menor\n"
     ]
    },
    {
     "name": "stdin",
     "output_type": "stream",
     "text": [
      "\n",
      "Tentativa 4:  12\n"
     ]
    },
    {
     "name": "stdout",
     "output_type": "stream",
     "text": [
      "O numero é menor\n"
     ]
    },
    {
     "name": "stdin",
     "output_type": "stream",
     "text": [
      "\n",
      "Tentativa 5:  8\n"
     ]
    },
    {
     "name": "stdout",
     "output_type": "stream",
     "text": [
      "O numero é maior\n"
     ]
    },
    {
     "name": "stdin",
     "output_type": "stream",
     "text": [
      "\n",
      "Tentativa 6:  9\n"
     ]
    },
    {
     "name": "stdout",
     "output_type": "stream",
     "text": [
      "parabéns\n"
     ]
    }
   ],
   "source": [
    "### import random\n",
    "num = random.randint (1, 50)\n",
    "tenta = 0\n",
    "max_tentativas = 10\n",
    "palpite = int(input(\"Digite um numero de 1 a 50\"))\n",
    "print(f\"Você tem {max_tentativas} tentativas. \")\n",
    "\n",
    "while tenta < max_tentativas:\n",
    "    palpite = int(input(f\"\\nTentativa {tenta+1}: \"))\n",
    "    tenta += 1\n",
    "    if num == palpite:\n",
    "        print(\"parabéns\")\n",
    "        break\n",
    "    elif palpite < num:\n",
    "        print(\"O numero é maior\")\n",
    "    else:\n",
    "        print(\"O numero é menor\")\n",
    "if tenta == max_tentativas and palpite != num:\n",
    "    print(\"Suas tentativas acabaram! O número era:\", num)\n",
    "    \n",
    "              "
   ]
  },
  {
   "cell_type": "code",
   "execution_count": null,
   "id": "0da3445c-d7fe-4325-af19-8f2d0357a189",
   "metadata": {},
   "outputs": [],
   "source": []
  }
 ],
 "metadata": {
  "kernelspec": {
   "display_name": "Python [conda env:base] *",
   "language": "python",
   "name": "conda-base-py"
  },
  "language_info": {
   "codemirror_mode": {
    "name": "ipython",
    "version": 3
   },
   "file_extension": ".py",
   "mimetype": "text/x-python",
   "name": "python",
   "nbconvert_exporter": "python",
   "pygments_lexer": "ipython3",
   "version": "3.12.7"
  }
 },
 "nbformat": 4,
 "nbformat_minor": 5
}
