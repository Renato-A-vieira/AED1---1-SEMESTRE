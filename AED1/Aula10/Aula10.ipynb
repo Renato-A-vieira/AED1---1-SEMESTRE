{
 "cells": [
  {
   "cell_type": "code",
   "execution_count": 1,
   "id": "8ad2446d-f4dd-4c75-88db-7b9c2fdb978b",
   "metadata": {},
   "outputs": [],
   "source": [
    "item1 = (\"Carro\", \"Moto\", \"Jetski\", \"Barco\")\n",
    "item2 = (\"Ferrari\", \"Volks\", \"Fiat\", \"Porsche\")\n",
    "item3 = (\"League of legends\", \"Tibia\", \"Darks souls\")\n",
    "\n",
    "coisa_aleatorias = (item1 , item2, item3)"
   ]
  },
  {
   "cell_type": "code",
   "execution_count": 25,
   "id": "ef4d0a99-8c20-4f30-bc18-7003e521d06f",
   "metadata": {},
   "outputs": [
    {
     "data": {
      "text/plain": [
       "(('Carro', 'Moto', 'Jetski', 'Barco'),\n",
       " ('Ferrari', 'Volks', 'Fiat', 'Porsche'),\n",
       " ('League of legends', 'Tibia', 'Darks souls'))"
      ]
     },
     "execution_count": 25,
     "metadata": {},
     "output_type": "execute_result"
    }
   ],
   "source": [
    "coisa_aleatorias"
   ]
  },
  {
   "cell_type": "code",
   "execution_count": 7,
   "id": "619e594d-43db-47fc-a5ce-051e8ed8741a",
   "metadata": {},
   "outputs": [
    {
     "ename": "AttributeError",
     "evalue": "'tuple' object has no attribute 'append'",
     "output_type": "error",
     "traceback": [
      "\u001b[1;31m---------------------------------------------------------------------------\u001b[0m",
      "\u001b[1;31mAttributeError\u001b[0m                            Traceback (most recent call last)",
      "Cell \u001b[1;32mIn[7], line 1\u001b[0m\n\u001b[1;32m----> 1\u001b[0m item1\u001b[38;5;241m.\u001b[39mappend (\u001b[38;5;124m\"\u001b[39m\u001b[38;5;124mImutavel\u001b[39m\u001b[38;5;124m\"\u001b[39m)\n",
      "\u001b[1;31mAttributeError\u001b[0m: 'tuple' object has no attribute 'append'"
     ]
    }
   ],
   "source": [
    "item1.append (\"Imutavel\")"
   ]
  },
  {
   "cell_type": "code",
   "execution_count": 9,
   "id": "252991c2-3bc6-4ec3-b5ee-c121a0d4d74e",
   "metadata": {},
   "outputs": [
    {
     "ename": "TypeError",
     "evalue": "'tuple' object does not support item deletion",
     "output_type": "error",
     "traceback": [
      "\u001b[1;31m---------------------------------------------------------------------------\u001b[0m",
      "\u001b[1;31mTypeError\u001b[0m                                 Traceback (most recent call last)",
      "Cell \u001b[1;32mIn[9], line 1\u001b[0m\n\u001b[1;32m----> 1\u001b[0m \u001b[38;5;28;01mdel\u001b[39;00m item1 [\u001b[38;5;124m\"\u001b[39m\u001b[38;5;124mCarro\u001b[39m\u001b[38;5;124m\"\u001b[39m]\n",
      "\u001b[1;31mTypeError\u001b[0m: 'tuple' object does not support item deletion"
     ]
    }
   ],
   "source": [
    "del item1 [\"Carro\"]"
   ]
  },
  {
   "cell_type": "code",
   "execution_count": 11,
   "id": "cfd323b0-8a5d-44ac-b0fa-8f7f5d89eb44",
   "metadata": {},
   "outputs": [
    {
     "data": {
      "text/plain": [
       "('Carro', 'Moto', 'Jetski', 'Barco')"
      ]
     },
     "execution_count": 11,
     "metadata": {},
     "output_type": "execute_result"
    }
   ],
   "source": [
    "item1"
   ]
  },
  {
   "cell_type": "code",
   "execution_count": 13,
   "id": "59011ad2-5930-4867-8bb1-858176cea028",
   "metadata": {},
   "outputs": [
    {
     "data": {
      "text/plain": [
       "'Carro'"
      ]
     },
     "execution_count": 13,
     "metadata": {},
     "output_type": "execute_result"
    }
   ],
   "source": [
    "item1[0]"
   ]
  },
  {
   "cell_type": "code",
   "execution_count": 31,
   "id": "8f76a60e-00ef-4987-bef7-71cf5b18f16e",
   "metadata": {},
   "outputs": [
    {
     "data": {
      "text/plain": [
       "(('Carro', 'Moto', 'Jetski', 'Barco'),\n",
       " ('Ferrari', 'Volks', 'Fiat', 'Porsche'),\n",
       " ('League of legends', 'Tibia', 'Darks souls'))"
      ]
     },
     "execution_count": 31,
     "metadata": {},
     "output_type": "execute_result"
    }
   ],
   "source": [
    "coisa_aleatorias"
   ]
  },
  {
   "cell_type": "code",
   "execution_count": 35,
   "id": "d7267b3e-b7a7-41b6-ae94-6fb9678a9d3c",
   "metadata": {},
   "outputs": [
    {
     "data": {
      "text/plain": [
       "1"
      ]
     },
     "execution_count": 35,
     "metadata": {},
     "output_type": "execute_result"
    }
   ],
   "source": [
    "item2.index (\"Volks\")"
   ]
  },
  {
   "cell_type": "code",
   "execution_count": 37,
   "id": "04a599e1-9587-4bfb-84f9-300bd1436d16",
   "metadata": {},
   "outputs": [],
   "source": [
    "del item1"
   ]
  },
  {
   "cell_type": "code",
   "execution_count": 43,
   "id": "ce25b02c-9cfa-419b-a80f-49d6d63cead3",
   "metadata": {},
   "outputs": [],
   "source": [
    "t2 = (1, 2 ,3 ,4 ,5)"
   ]
  },
  {
   "cell_type": "code",
   "execution_count": 45,
   "id": "db5da6ba-9496-4655-9f8b-1c1a047b0f2c",
   "metadata": {},
   "outputs": [
    {
     "data": {
      "text/plain": [
       "4"
      ]
     },
     "execution_count": 45,
     "metadata": {},
     "output_type": "execute_result"
    }
   ],
   "source": [
    "t2[3]"
   ]
  },
  {
   "cell_type": "code",
   "execution_count": 100,
   "id": "40d82e52-ecef-407f-83ac-2b8780d0664b",
   "metadata": {},
   "outputs": [],
   "source": [
    "lista_t2 = list(t2)"
   ]
  },
  {
   "cell_type": "code",
   "execution_count": 102,
   "id": "e981d88b-80c9-4a4a-ac22-bb2119346243",
   "metadata": {},
   "outputs": [
    {
     "data": {
      "text/plain": [
       "(1, 2, 3, 4, 5)"
      ]
     },
     "execution_count": 102,
     "metadata": {},
     "output_type": "execute_result"
    }
   ],
   "source": [
    "t2"
   ]
  },
  {
   "cell_type": "code",
   "execution_count": 104,
   "id": "30e87703-8fc7-468e-8ca8-71e6a68d48f8",
   "metadata": {},
   "outputs": [
    {
     "data": {
      "text/plain": [
       "list"
      ]
     },
     "execution_count": 104,
     "metadata": {},
     "output_type": "execute_result"
    }
   ],
   "source": [
    "type(lista_t2)"
   ]
  },
  {
   "cell_type": "code",
   "execution_count": 106,
   "id": "4bef1a4c-e141-4c96-8e36-a8d9fac5a25f",
   "metadata": {},
   "outputs": [],
   "source": [
    "lista_t2[3] = 77"
   ]
  },
  {
   "cell_type": "code",
   "execution_count": 108,
   "id": "89bc8df7-5a77-4775-84cd-b06a6e90b1c5",
   "metadata": {},
   "outputs": [
    {
     "data": {
      "text/plain": [
       "[1, 2, 3, 77, 5]"
      ]
     },
     "execution_count": 108,
     "metadata": {},
     "output_type": "execute_result"
    }
   ],
   "source": [
    "lista_t2"
   ]
  },
  {
   "cell_type": "code",
   "execution_count": 112,
   "id": "89481fae-e04d-433b-9902-fd89348e13a4",
   "metadata": {},
   "outputs": [],
   "source": [
    "lista_t2.append (\"x\")"
   ]
  },
  {
   "cell_type": "code",
   "execution_count": 115,
   "id": "74a6e164-31d7-4f42-beaf-fc4757cf336c",
   "metadata": {},
   "outputs": [
    {
     "data": {
      "text/plain": [
       "[1, 2, 3, 77, 5, 'x']"
      ]
     },
     "execution_count": 115,
     "metadata": {},
     "output_type": "execute_result"
    }
   ],
   "source": [
    "lista_t2"
   ]
  },
  {
   "cell_type": "code",
   "execution_count": 117,
   "id": "bb7b869b-7da8-44c2-8404-0ff4e8d00870",
   "metadata": {},
   "outputs": [],
   "source": [
    "t2 = tuple(lista_t2)"
   ]
  },
  {
   "cell_type": "code",
   "execution_count": 119,
   "id": "459ea469-eb6e-4793-8583-d976536df6e3",
   "metadata": {},
   "outputs": [
    {
     "data": {
      "text/plain": [
       "(1, 2, 3, 77, 5, 'x')"
      ]
     },
     "execution_count": 119,
     "metadata": {},
     "output_type": "execute_result"
    }
   ],
   "source": [
    "t2"
   ]
  },
  {
   "cell_type": "code",
   "execution_count": 208,
   "id": "be37f99f-218b-4945-8433-9380df8427a6",
   "metadata": {},
   "outputs": [
    {
     "name": "stdout",
     "output_type": "stream",
     "text": [
      "Digite a idade e para sair digite -1\n"
     ]
    },
    {
     "name": "stdin",
     "output_type": "stream",
     "text": [
      "Digite a idade 4\n",
      "Digite a idade 19\n",
      "Digite a idade 22\n",
      "Digite a idade 44\n",
      "Digite a idade 55\n",
      "Digite a idade 45\n",
      "Digite a idade 27\n",
      "Digite a idade 43\n",
      "Digite a idade 20\n",
      "Digite a idade -1\n"
     ]
    },
    {
     "name": "stdout",
     "output_type": "stream",
     "text": [
      "Resultado\n",
      "A quantidade de idades Digitada foi: 9\n",
      "A media é: 31\n"
     ]
    }
   ],
   "source": [
    "from statistics import mean\n",
    "\n",
    "idades =  []\n",
    "print (\"Digite a idade e para sair digite -1\")\n",
    "\n",
    "while True:\n",
    "    idade = int(input(\"Digite a idade\"))\n",
    "    if idade == -1:\n",
    "        break\n",
    "    elif idade < 0:\n",
    "        print(\"Digite uma idade valida\")\n",
    "    idades.append(idade)\n",
    "\n",
    "idades = tuple(idades)\n",
    "\n",
    "quantidade = len(idades)\n",
    "media = int(mean(idades))\n",
    "print(\"Resultado\")\n",
    "\n",
    "print(f\"A quantidade de idades Digitada foi: {quantidade}\")\n",
    "print(f\"A media é: {media}\")\n",
    "          "
   ]
  },
  {
   "cell_type": "code",
   "execution_count": 212,
   "id": "48dd4cd7-cf82-48ce-a2e6-4588cf0fe010",
   "metadata": {},
   "outputs": [],
   "source": [
    "peixes = {\"t\":\"tubarão\", \"b\":\"Baleia\", \"a\":\"atum\"}"
   ]
  },
  {
   "cell_type": "code",
   "execution_count": 222,
   "id": "3c3de7de-4506-492e-a70e-49a9992a5b66",
   "metadata": {},
   "outputs": [
    {
     "data": {
      "text/plain": [
       "{'t': 'tubarão', 'b': 'Baleia', 'a': 'atum'}"
      ]
     },
     "execution_count": 222,
     "metadata": {},
     "output_type": "execute_result"
    }
   ],
   "source": [
    "peixes"
   ]
  },
  {
   "cell_type": "code",
   "execution_count": 224,
   "id": "8ea31c57-5435-4eca-a5cb-a116af4bd9ec",
   "metadata": {},
   "outputs": [],
   "source": [
    "f1 = {1:\"Mercedes\", 2:\"Ferrari\", 3:\"Renault\"}"
   ]
  },
  {
   "cell_type": "code",
   "execution_count": 226,
   "id": "53c90f6e-97ef-4fd2-813b-4c7f50353da0",
   "metadata": {},
   "outputs": [
    {
     "data": {
      "text/plain": [
       "{1: 'Mercedes', 2: 'Ferrari', 3: 'Renault'}"
      ]
     },
     "execution_count": 226,
     "metadata": {},
     "output_type": "execute_result"
    }
   ],
   "source": [
    "f1"
   ]
  },
  {
   "cell_type": "code",
   "execution_count": 228,
   "id": "504123e0-a604-4282-9606-fd09fa1300bf",
   "metadata": {},
   "outputs": [
    {
     "data": {
      "text/plain": [
       "False"
      ]
     },
     "execution_count": 228,
     "metadata": {},
     "output_type": "execute_result"
    }
   ],
   "source": [
    "peixes == f1"
   ]
  },
  {
   "cell_type": "code",
   "execution_count": 244,
   "id": "187e4f86-0f9f-4b3a-8359-2ef03ff66a5c",
   "metadata": {},
   "outputs": [
    {
     "name": "stdin",
     "output_type": "stream",
     "text": [
      "Digite o apto 4\n",
      "Proprietarios:  Renato\n",
      "Digite o apto 5\n",
      "Proprietarios:  José\n",
      "Digite o apto 6\n",
      "Proprietarios:  Marcia\n",
      "Digite o apto -1\n"
     ]
    },
    {
     "name": "stdout",
     "output_type": "stream",
     "text": [
      "Apto: 4 - Proprietário: Renato\n",
      "Apto: 5 - Proprietário: José\n",
      "Apto: 6 - Proprietário: Marcia\n"
     ]
    }
   ],
   "source": [
    "proprietarios = {}\n",
    "while True:\n",
    "    apto = int(input(\"Digite o apto\"))\n",
    "    if apto != -1:\n",
    "        proprietario = input(\"Proprietarios: \")\n",
    "        proprietarios.update({apto: proprietario})\n",
    "    else:\n",
    "        break\n",
    "\n",
    "edificio = dict(sorted(proprietarios.items()))\n",
    "\n",
    "for chave, valor in edificio.items():\n",
    "    print(f\"Apto: {chave} - Proprietário: {valor}\")"
   ]
  },
  {
   "cell_type": "code",
   "execution_count": null,
   "id": "301eca80-c8c9-4495-a1aa-e584d5eb7ce3",
   "metadata": {},
   "outputs": [],
   "source": []
  },
  {
   "cell_type": "code",
   "execution_count": null,
   "id": "0d093001-3b94-4521-82a2-e513d70a7ead",
   "metadata": {},
   "outputs": [],
   "source": []
  }
 ],
 "metadata": {
  "kernelspec": {
   "display_name": "Python [conda env:base] *",
   "language": "python",
   "name": "conda-base-py"
  },
  "language_info": {
   "codemirror_mode": {
    "name": "ipython",
    "version": 3
   },
   "file_extension": ".py",
   "mimetype": "text/x-python",
   "name": "python",
   "nbconvert_exporter": "python",
   "pygments_lexer": "ipython3",
   "version": "3.12.7"
  }
 },
 "nbformat": 4,
 "nbformat_minor": 5
}
