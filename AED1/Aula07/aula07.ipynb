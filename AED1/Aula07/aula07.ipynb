{
 "cells": [
  {
   "cell_type": "code",
   "execution_count": 45,
   "id": "b403cc03-6603-4e78-af58-ed1da1850e08",
   "metadata": {},
   "outputs": [
    {
     "name": "stdin",
     "output_type": "stream",
     "text": [
      "Digite a idade 1:  4\n",
      "Digite a idade 2:  36\n",
      "Digite a idade 3:  65\n",
      "Digite a idade 4:  44\n",
      "Digite a idade 5:  76\n"
     ]
    },
    {
     "name": "stdout",
     "output_type": "stream",
     "text": [
      "A media é : 45.0\n"
     ]
    }
   ],
   "source": [
    "soma = 0\n",
    "for i in range (1, 6):\n",
    "    idade = int(input(f\"Digite a idade {i}: \"))\n",
    "    soma = soma + idade\n",
    "media = soma/5\n",
    "print(\"A media é :\", media)"
   ]
  },
  {
   "cell_type": "code",
   "execution_count": 62,
   "id": "e6e4dc6d-e367-42fe-9a87-29599cd5aca7",
   "metadata": {},
   "outputs": [
    {
     "name": "stdout",
     "output_type": "stream",
     "text": [
      "10\n",
      "10 - 1\n",
      "9\n",
      "9 - 1\n",
      "8\n",
      "8 - 1\n",
      "7\n",
      "7 - 1\n",
      "6\n",
      "6 - 1\n",
      "5\n",
      "5 - 1\n",
      "4\n",
      "4 - 1\n",
      "3\n",
      "3 - 1\n",
      "2\n",
      "2 - 1\n",
      "1\n",
      "1 - 1\n"
     ]
    }
   ],
   "source": [
    "for i in range (10, 0 , -1):\n",
    "    print(i)\n",
    "    print(i, \"- 1\")"
   ]
  },
  {
   "cell_type": "code",
   "execution_count": 154,
   "id": "fcba2aa1-251b-4896-abb3-ad4465e95568",
   "metadata": {},
   "outputs": [
    {
     "name": "stdin",
     "output_type": "stream",
     "text": [
      "Digite um NUMERO 4\n"
     ]
    },
    {
     "name": "stdout",
     "output_type": "stream",
     "text": [
      " O fatorial de  4 é igual a 24\n"
     ]
    }
   ],
   "source": [
    "numero = int(input(\"Digite um NUMERO\"))\n",
    "fatorial = 1\n",
    "if numero < 0:\n",
    "    print(\"Não existe\")\n",
    "elif numero == 0:\n",
    "    print(\"Fatorial de 0 é igual a 1\")\n",
    "else:\n",
    "    for i in range (1, numero+1):\n",
    "        fatorial = fatorial * i\n",
    "print(\" O fatorial de \", numero , \"é igual a\", fatorial)"
   ]
  },
  {
   "cell_type": "code",
   "execution_count": 78,
   "id": "a4c961d4-8dae-4fe2-b40a-09179ecb9350",
   "metadata": {},
   "outputs": [
    {
     "name": "stdout",
     "output_type": "stream",
     "text": [
      "1  x 9 = 9\n",
      "2  x 9 = 18\n",
      "3  x 9 = 27\n",
      "4  x 9 = 36\n",
      "5  x 9 = 45\n",
      "6  x 9 = 54\n",
      "7  x 9 = 63\n",
      "8  x 9 = 72\n",
      "9  x 9 = 81\n",
      "10  x 9 = 90\n"
     ]
    }
   ],
   "source": [
    "i = 1\n",
    "while i < 11:\n",
    "    print( i ,\" x 9 =\", i*9)\n",
    "    i=i+1"
   ]
  },
  {
   "cell_type": "code",
   "execution_count": 93,
   "id": "373b5689-b467-492a-9034-bf5a846bf4f1",
   "metadata": {},
   "outputs": [
    {
     "name": "stdin",
     "output_type": "stream",
     "text": [
      "Entre com um valor <-1 pra sair>:  4\n",
      "Entre com um valor <-1 pra sair>:  4\n",
      "Entre com um valor <-1 pra sair>:  4\n",
      "Entre com um valor <-1 pra sair>:  4\n",
      "Entre com um valor <-1 pra sair>:  4\n",
      "Entre com um valor <-1 pra sair>:  -1\n"
     ]
    },
    {
     "name": "stdout",
     "output_type": "stream",
     "text": [
      " A media dos numeros é igual a :  4.0\n"
     ]
    }
   ],
   "source": [
    "soma = 0\n",
    "qtd = 0\n",
    "numero = 0\n",
    "while numero != -1:\n",
    "    numero = int(input(\"Entre com um valor <-1 pra sair>: \"))\n",
    "    if (numero != -1):\n",
    "        soma = soma + numero\n",
    "        qtd = qtd+1\n",
    "media = soma / qtd\n",
    "print(\" A media dos numeros é igual a : \", media)"
   ]
  },
  {
   "cell_type": "code",
   "execution_count": 95,
   "id": "edd404bf-fbd4-48e7-8095-f2d4f9e82c8f",
   "metadata": {},
   "outputs": [
    {
     "name": "stdout",
     "output_type": "stream",
     "text": [
      "o ultimo valor de n é: 0\n",
      "o ultimo valor de n é: 1\n",
      "o ultimo valor de n é: 2\n",
      "o ultimo valor de n é: 3\n",
      "o ultimo valor de n é: 4\n",
      "o ultimo valor de n é: 5\n",
      "o ultimo valor de n é: 6\n",
      "o ultimo valor de n é: 7\n",
      "o ultimo valor de n é: 8\n"
     ]
    }
   ],
   "source": [
    "n = 0\n",
    "while True:\n",
    "    print(\"o ultimo valor de n é:\", n)\n",
    "    n = n + 1\n",
    "    if n>8:\n",
    "        break"
   ]
  },
  {
   "cell_type": "code",
   "execution_count": 101,
   "id": "71f14354-26e0-4423-884a-d6dad37093e7",
   "metadata": {},
   "outputs": [
    {
     "name": "stdout",
     "output_type": "stream",
     "text": [
      "O ultimo valor de n é  3\n",
      "O ultimo valor de n é  5\n",
      "O ultimo valor de n é  7\n",
      "O ultimo valor de n é  9\n",
      "O ultimo valor de n é  11\n",
      "O ultimo valor de n é  13\n"
     ]
    }
   ],
   "source": [
    "n = 0\n",
    "while True:\n",
    "    if (n%2)==0:\n",
    "        n = n + 3\n",
    "        continue\n",
    "    print(\"O ultimo valor de n é \", n)\n",
    "    n = n + 2\n",
    "    if n> 14:\n",
    "        break"
   ]
  },
  {
   "cell_type": "code",
   "execution_count": 152,
   "id": "19a8c2bc-303b-4319-ac26-ff2593c7ba9b",
   "metadata": {},
   "outputs": [
    {
     "name": "stdin",
     "output_type": "stream",
     "text": [
      "Digite o Numero 4\n"
     ]
    },
    {
     "name": "stdout",
     "output_type": "stream",
     "text": [
      "O valor de E é: 30\n"
     ]
    }
   ],
   "source": [
    "n = int(input(\"Digite o Numero\"))\n",
    "i = 1\n",
    "e = 0\n",
    "if e < 0:\n",
    "    print(\"error\")\n",
    "else:\n",
    "    while i <= n:\n",
    "        e = e + (2 ** i)\n",
    "        i = i + 1\n",
    "print(\"O valor de E é:\", e)"
   ]
  },
  {
   "cell_type": "code",
   "execution_count": 141,
   "id": "20ed56ce-0a93-4cba-b32b-a9262a1ffb10",
   "metadata": {},
   "outputs": [
    {
     "name": "stdin",
     "output_type": "stream",
     "text": [
      "Digite o numero 5\n"
     ]
    },
    {
     "name": "stdout",
     "output_type": "stream",
     "text": [
      "O valor de E é: 32\n"
     ]
    }
   ],
   "source": [
    "n = int(input(\"Digite o numero\"))\n",
    "e = 0\n",
    "for i in range (1, n + 1):\n",
    "    if e < 0:\n",
    "        print(\"error\")\n",
    "else:\n",
    "    e = e + (2 ** i)\n",
    "    print(\"O valor de E é:\", e)"
   ]
  },
  {
   "cell_type": "code",
   "execution_count": 171,
   "id": "06129069-6764-4bd2-a7d9-63c93f6ef233",
   "metadata": {},
   "outputs": [
    {
     "name": "stdout",
     "output_type": "stream",
     "text": [
      " a soma dos 50 primeiro numero é : 2550\n"
     ]
    }
   ],
   "source": [
    "soma = 0\n",
    "for i in range (1, 51):\n",
    "    par = i * 2\n",
    "    soma = soma + par\n",
    "print(\" a soma dos 50 primeiro numero é :\", soma)"
   ]
  },
  {
   "cell_type": "code",
   "execution_count": 173,
   "id": "f88ddc6a-2116-419a-b046-d52eaac7ead8",
   "metadata": {},
   "outputs": [
    {
     "name": "stdout",
     "output_type": "stream",
     "text": [
      " o Resultado é : 2550\n"
     ]
    }
   ],
   "source": [
    "soma = 0\n",
    "numero = 1\n",
    "while numero <= 50:\n",
    "    par = numero * 2\n",
    "    soma = soma + par\n",
    "    numero = numero + 1\n",
    "print(\" o Resultado é :\", soma)"
   ]
  },
  {
   "cell_type": "code",
   "execution_count": 223,
   "id": "e7ff4345-55d2-46c1-902b-8121a4866dd5",
   "metadata": {},
   "outputs": [
    {
     "name": "stdout",
     "output_type": "stream",
     "text": [
      "\n",
      " -- dados da pessoa 1 ---\n"
     ]
    },
    {
     "name": "stdin",
     "output_type": "stream",
     "text": [
      "Digite o Peso 180\n",
      "Digite a altura 2\n"
     ]
    },
    {
     "name": "stdout",
     "output_type": "stream",
     "text": [
      "O imc desta pessoa é: 45.00\n",
      "\n",
      " -- dados da pessoa 2 ---\n"
     ]
    },
    {
     "name": "stdin",
     "output_type": "stream",
     "text": [
      "Digite o Peso 2\n",
      "Digite a altura 3\n"
     ]
    },
    {
     "name": "stdout",
     "output_type": "stream",
     "text": [
      "O imc desta pessoa é: 0.22\n",
      "\n",
      " -- dados da pessoa 3 ---\n"
     ]
    },
    {
     "name": "stdin",
     "output_type": "stream",
     "text": [
      "Digite o Peso 165\n",
      "Digite a altura 2.55\n"
     ]
    },
    {
     "name": "stdout",
     "output_type": "stream",
     "text": [
      "O imc desta pessoa é: 25.37\n",
      "\n",
      " -- dados da pessoa 4 ---\n"
     ]
    },
    {
     "name": "stdin",
     "output_type": "stream",
     "text": [
      "Digite o Peso 100\n",
      "Digite a altura 1\n"
     ]
    },
    {
     "name": "stdout",
     "output_type": "stream",
     "text": [
      "O imc desta pessoa é: 100.00\n",
      "\n",
      " -- dados da pessoa 5 ---\n"
     ]
    },
    {
     "name": "stdin",
     "output_type": "stream",
     "text": [
      "Digite o Peso 316\n",
      "Digite a altura 5\n"
     ]
    },
    {
     "name": "stdout",
     "output_type": "stream",
     "text": [
      "O imc desta pessoa é: 12.64\n",
      "Resultado Final\n",
      "Peso médio: 152.60 kg\n",
      "Altura média: 2.71 m\n",
      "Maior IMC: 100.00\n",
      "Menor IMC: 0.22\n"
     ]
    }
   ],
   "source": [
    "speso = 0\n",
    "saltura = 0\n",
    "maior_imc = -1\n",
    "menor_imc = 999\n",
    "for i in range (1, 6):\n",
    "    print(f\"\\n -- dados da pessoa {i} ---\")\n",
    "    peso = float(input(\"Digite o Peso\"))\n",
    "    altura = float(input(\"Digite a altura\"))\n",
    "    imc = peso / (altura ** 2)\n",
    "    speso += peso\n",
    "    saltura += altura\n",
    "    print(f\"O imc desta pessoa é: {imc:.2f}\")\n",
    "    if imc > maior_imc:\n",
    "        maior_imc = imc\n",
    "    \n",
    "    if imc < menor_imc:\n",
    "        menor_imc = imc\n",
    "mediap = speso / 5\n",
    "mediaa = saltura / 5 \n",
    "\n",
    "print(\"Resultado Final\")\n",
    "print(f\"Peso médio: {mediap:.2f} kg\")\n",
    "print(f\"Altura média: {mediaa:.2f} m\")\n",
    "print(f\"Maior IMC: {maior_imc:.2f}\")\n",
    "\n",
    "print(f\"Menor IMC: {menor_imc:.2f}\")"
   ]
  },
  {
   "cell_type": "code",
   "execution_count": 261,
   "id": "f7557b49-9996-4fb2-8315-5e288dee9981",
   "metadata": {},
   "outputs": [
    {
     "name": "stdin",
     "output_type": "stream",
     "text": [
      "peso 50\n",
      "altura 2\n"
     ]
    },
    {
     "name": "stdout",
     "output_type": "stream",
     "text": [
      "IMC =  12.5\n"
     ]
    },
    {
     "name": "stdin",
     "output_type": "stream",
     "text": [
      "peso 100\n",
      "altura 2\n"
     ]
    },
    {
     "name": "stdout",
     "output_type": "stream",
     "text": [
      "IMC =  25.0\n",
      " O peso medio é :  75.0\n",
      "Alutra media é:  2.0\n",
      "Imc medio é ? 18.75\n",
      "O menor imc é : 12.5\n",
      "O maior imc é : 25.0\n"
     ]
    }
   ],
   "source": [
    "soma_a = 0\n",
    "soma_p = 0\n",
    "soma_imc = 0\n",
    "maior_imc = 0\n",
    "menor_imc = 100\n",
    "\n",
    "for i in range (1, 3):\n",
    "    peso = float(input(\"peso\"))\n",
    "    soma_p = soma_p + peso\n",
    "    altura = float(input(\"altura\"))\n",
    "    soma_a = soma_a + altura\n",
    "    imc = peso / (altura * altura)\n",
    "    soma_imc = soma_imc + imc\n",
    "    print(\"IMC = \", imc)\n",
    "\n",
    "    if imc < menor_imc:\n",
    "        menor_imc = imc\n",
    "    if imc > maior_imc:\n",
    "        maior_imc = imc\n",
    "\n",
    "media_imc = soma_imc / 2\n",
    "media_p = soma_p / 2\n",
    "media_a = soma_a / 2\n",
    "print(\" O peso medio é : \", media_p)\n",
    "print(\"Alutra media é: \", media_a)\n",
    "print(\"Imc medio é ?\", media_imc)\n",
    "print(\"O menor imc é :\", menor_imc)\n",
    "print(\"O maior imc é :\", maior_imc)\n",
    "\n",
    "    "
   ]
  },
  {
   "cell_type": "code",
   "execution_count": 261,
   "id": "e848b40f-1fd5-416a-a4d9-e3778f2cb39b",
   "metadata": {},
   "outputs": [
    {
     "name": "stdin",
     "output_type": "stream",
     "text": [
      "peso 50\n",
      "altura 2\n"
     ]
    },
    {
     "name": "stdout",
     "output_type": "stream",
     "text": [
      "IMC =  12.5\n"
     ]
    },
    {
     "name": "stdin",
     "output_type": "stream",
     "text": [
      "peso 100\n",
      "altura 2\n"
     ]
    },
    {
     "name": "stdout",
     "output_type": "stream",
     "text": [
      "IMC =  25.0\n",
      " O peso medio é :  75.0\n",
      "Alutra media é:  2.0\n",
      "Imc medio é ? 18.75\n",
      "O menor imc é : 12.5\n",
      "O maior imc é : 25.0\n"
     ]
    }
   ],
   "source": [
    "soma_a = 0\n",
    "soma_p = 0\n",
    "soma_imc = 0\n",
    "maior_imc = 0\n",
    "menor_imc = 100\n",
    "\n",
    "for i in range (1, 3):\n",
    "    peso = float(input(\"peso\"))\n",
    "    soma_p = soma_p + peso\n",
    "    altura = float(input(\"altura\"))\n",
    "    soma_a = soma_a + altura\n",
    "    imc = peso / (altura * altura)\n",
    "    soma_imc = soma_imc + imc\n",
    "    print(\"IMC = \", imc)\n",
    "\n",
    "    if imc < menor_imc:\n",
    "        menor_imc = imc\n",
    "    if imc > maior_imc:\n",
    "        maior_imc = imc\n",
    "\n",
    "media_imc = soma_imc / 2\n",
    "media_p = soma_p / 2\n",
    "media_a = soma_a / 2\n",
    "print(\" O peso medio é : \", media_p)\n",
    "print(\"Alutra media é: \", media_a)\n",
    "print(\"Imc medio é ?\", media_imc)\n",
    "print(\"O menor imc é :\", menor_imc)\n",
    "print(\"O maior imc é :\", maior_imc)\n",
    "\n",
    "    "
   ]
  },
  {
   "cell_type": "code",
   "execution_count": null,
   "id": "51fdb9a7-0990-4a08-8f56-b0fccbfad8a5",
   "metadata": {},
   "outputs": [],
   "source": []
  }
 ],
 "metadata": {
  "kernelspec": {
   "display_name": "Python [conda env:base] *",
   "language": "python",
   "name": "conda-base-py"
  },
  "language_info": {
   "codemirror_mode": {
    "name": "ipython",
    "version": 3
   },
   "file_extension": ".py",
   "mimetype": "text/x-python",
   "name": "python",
   "nbconvert_exporter": "python",
   "pygments_lexer": "ipython3",
   "version": "3.12.7"
  }
 },
 "nbformat": 4,
 "nbformat_minor": 5
}
