{
 "cells": [
  {
   "cell_type": "code",
   "execution_count": 3,
   "id": "a6796474-ef27-4f75-b3eb-e53f07896834",
   "metadata": {},
   "outputs": [
    {
     "data": {
      "text/plain": [
       "2"
      ]
     },
     "execution_count": 3,
     "metadata": {},
     "output_type": "execute_result"
    }
   ],
   "source": [
    "5%3"
   ]
  },
  {
   "cell_type": "code",
   "execution_count": 5,
   "id": "7ed8270e-0eeb-471a-90b3-380066cf6cd0",
   "metadata": {},
   "outputs": [
    {
     "data": {
      "text/plain": [
       "125"
      ]
     },
     "execution_count": 5,
     "metadata": {},
     "output_type": "execute_result"
    }
   ],
   "source": [
    "5**3"
   ]
  },
  {
   "cell_type": "code",
   "execution_count": 7,
   "id": "bcbded14-efcc-4ba6-a0cc-8852549f5651",
   "metadata": {},
   "outputs": [
    {
     "data": {
      "text/plain": [
       "1.6666666666666667"
      ]
     },
     "execution_count": 7,
     "metadata": {},
     "output_type": "execute_result"
    }
   ],
   "source": [
    "5/3"
   ]
  },
  {
   "cell_type": "code",
   "execution_count": 9,
   "id": "15c420b2-f57e-4379-8a09-39a0e771c1db",
   "metadata": {},
   "outputs": [
    {
     "data": {
      "text/plain": [
       "1"
      ]
     },
     "execution_count": 9,
     "metadata": {},
     "output_type": "execute_result"
    }
   ],
   "source": [
    "5//3"
   ]
  },
  {
   "cell_type": "code",
   "execution_count": 11,
   "id": "84ca5d97-ad70-48df-ad68-ec45e6cba962",
   "metadata": {},
   "outputs": [
    {
     "data": {
      "text/plain": [
       "1"
      ]
     },
     "execution_count": 11,
     "metadata": {},
     "output_type": "execute_result"
    }
   ],
   "source": [
    "7%3"
   ]
  },
  {
   "cell_type": "code",
   "execution_count": 13,
   "id": "d8f55ccf-060a-4551-8b32-e5d093472d6d",
   "metadata": {},
   "outputs": [
    {
     "data": {
      "text/plain": [
       "2"
      ]
     },
     "execution_count": 13,
     "metadata": {},
     "output_type": "execute_result"
    }
   ],
   "source": [
    "7//3"
   ]
  },
  {
   "cell_type": "code",
   "execution_count": 15,
   "id": "d8d3b63f-cf87-419c-b077-a278cbc55324",
   "metadata": {},
   "outputs": [
    {
     "data": {
      "text/plain": [
       "2.3333333333333335"
      ]
     },
     "execution_count": 15,
     "metadata": {},
     "output_type": "execute_result"
    }
   ],
   "source": [
    "7/3"
   ]
  },
  {
   "cell_type": "code",
   "execution_count": 19,
   "id": "571cf42a-c10e-4770-b5be-840866a99be0",
   "metadata": {},
   "outputs": [],
   "source": [
    "# False and True"
   ]
  },
  {
   "cell_type": "code",
   "execution_count": 32,
   "id": "538151ff-7912-4289-996f-ce2393276004",
   "metadata": {},
   "outputs": [],
   "source": [
    "x = 3\n",
    "y = 5"
   ]
  },
  {
   "cell_type": "code",
   "execution_count": 40,
   "id": "c68c1cdb-7598-4f64-8f36-1584a60b4d41",
   "metadata": {},
   "outputs": [
    {
     "data": {
      "text/plain": [
       "False"
      ]
     },
     "execution_count": 40,
     "metadata": {},
     "output_type": "execute_result"
    }
   ],
   "source": [
    "x>y"
   ]
  },
  {
   "cell_type": "code",
   "execution_count": 52,
   "id": "c21d116d-08aa-4a92-8454-6a54de09fde6",
   "metadata": {},
   "outputs": [
    {
     "data": {
      "text/plain": [
       "True"
      ]
     },
     "execution_count": 52,
     "metadata": {},
     "output_type": "execute_result"
    }
   ],
   "source": [
    "y>=x # maior ou igual"
   ]
  },
  {
   "cell_type": "code",
   "execution_count": 50,
   "id": "a0e61fbf-5145-4d0a-8691-178b51158df4",
   "metadata": {},
   "outputs": [
    {
     "data": {
      "text/plain": [
       "True"
      ]
     },
     "execution_count": 50,
     "metadata": {},
     "output_type": "execute_result"
    }
   ],
   "source": [
    "x != y # != é diferente"
   ]
  },
  {
   "cell_type": "code",
   "execution_count": 46,
   "id": "ec8424e8-2700-425d-a3d6-c4c5fe902fd9",
   "metadata": {},
   "outputs": [],
   "source": [
    "z = x>y"
   ]
  },
  {
   "cell_type": "code",
   "execution_count": 58,
   "id": "1b078efc-c4d7-470c-a9bc-61e41ab5a5cd",
   "metadata": {},
   "outputs": [
    {
     "data": {
      "text/plain": [
       "False"
      ]
     },
     "execution_count": 58,
     "metadata": {},
     "output_type": "execute_result"
    }
   ],
   "source": [
    "z"
   ]
  },
  {
   "cell_type": "code",
   "execution_count": 60,
   "id": "c3be6384-188a-4105-9569-02d8b2eb04d9",
   "metadata": {},
   "outputs": [
    {
     "data": {
      "text/plain": [
       "False"
      ]
     },
     "execution_count": 60,
     "metadata": {},
     "output_type": "execute_result"
    }
   ],
   "source": [
    "x>y and y<=x"
   ]
  },
  {
   "cell_type": "code",
   "execution_count": 62,
   "id": "559b2eb6-ca4f-4dfc-976a-8a06b0a99125",
   "metadata": {},
   "outputs": [
    {
     "data": {
      "text/plain": [
       "True"
      ]
     },
     "execution_count": 62,
     "metadata": {},
     "output_type": "execute_result"
    }
   ],
   "source": [
    "x<y and y>x"
   ]
  },
  {
   "cell_type": "code",
   "execution_count": 64,
   "id": "637dd3c6-fa7e-429d-8321-92e234e34af5",
   "metadata": {},
   "outputs": [
    {
     "data": {
      "text/plain": [
       "False"
      ]
     },
     "execution_count": 64,
     "metadata": {},
     "output_type": "execute_result"
    }
   ],
   "source": [
    "x>y and y>x"
   ]
  },
  {
   "cell_type": "code",
   "execution_count": 66,
   "id": "e6878e07-c06a-46e0-bde0-9ec364f35522",
   "metadata": {},
   "outputs": [
    {
     "data": {
      "text/plain": [
       "True"
      ]
     },
     "execution_count": 66,
     "metadata": {},
     "output_type": "execute_result"
    }
   ],
   "source": [
    "x>y or y>x"
   ]
  },
  {
   "cell_type": "code",
   "execution_count": 72,
   "id": "c4739dc5-9d9a-43bd-84d6-2f1c13caa97a",
   "metadata": {},
   "outputs": [],
   "source": [
    "p = 5\n",
    "q = 7"
   ]
  },
  {
   "cell_type": "code",
   "execution_count": 74,
   "id": "4bd2ac11-91d3-4e4b-91b8-3a20644d7a61",
   "metadata": {},
   "outputs": [],
   "source": [
    "x =(p>q)and(not(p==q))"
   ]
  },
  {
   "cell_type": "code",
   "execution_count": 76,
   "id": "9084076f-fe67-4ea9-a588-8f80f9b24bc1",
   "metadata": {},
   "outputs": [
    {
     "data": {
      "text/plain": [
       "False"
      ]
     },
     "execution_count": 76,
     "metadata": {},
     "output_type": "execute_result"
    }
   ],
   "source": [
    "x"
   ]
  },
  {
   "cell_type": "code",
   "execution_count": 78,
   "id": "822108c4-53d4-47b7-8b24-2f6586ba301e",
   "metadata": {},
   "outputs": [],
   "source": [
    "y=(not(q<p))or (q!=p)"
   ]
  },
  {
   "cell_type": "code",
   "execution_count": 80,
   "id": "5df279fd-1877-4256-93ea-06a1ba184281",
   "metadata": {},
   "outputs": [
    {
     "data": {
      "text/plain": [
       "True"
      ]
     },
     "execution_count": 80,
     "metadata": {},
     "output_type": "execute_result"
    }
   ],
   "source": [
    "y"
   ]
  },
  {
   "cell_type": "code",
   "execution_count": 82,
   "id": "18d2024d-6de8-4c9a-8476-8b8d09bccea8",
   "metadata": {},
   "outputs": [
    {
     "data": {
      "text/plain": [
       "17"
      ]
     },
     "execution_count": 82,
     "metadata": {},
     "output_type": "execute_result"
    }
   ],
   "source": [
    "10+5*2-3"
   ]
  },
  {
   "cell_type": "code",
   "execution_count": 86,
   "id": "afc991c8-4509-450a-adaf-0a59ed3d2b1a",
   "metadata": {},
   "outputs": [],
   "source": [
    "a=2\n",
    "b=6\n",
    "c=3\n",
    "d=4\n",
    "e=8\n",
    "f=4"
   ]
  },
  {
   "cell_type": "code",
   "execution_count": 88,
   "id": "ba2c163c-4cd6-47d8-bcdc-9f5bb35a9b1f",
   "metadata": {},
   "outputs": [],
   "source": [
    "x =(a+b/c)/(d-e/f)"
   ]
  },
  {
   "cell_type": "code",
   "execution_count": 13,
   "id": "b6026656-c41d-4fe5-981b-4538d97a3111",
   "metadata": {},
   "outputs": [
    {
     "name": "stdin",
     "output_type": "stream",
     "text": [
      "digite o valor 3\n"
     ]
    }
   ],
   "source": [
    "x = input(\"digite o valor\")"
   ]
  },
  {
   "cell_type": "code",
   "execution_count": 30,
   "id": "033160d6-94a3-4135-85eb-a079efe390fb",
   "metadata": {},
   "outputs": [],
   "source": [
    "x=2\n",
    "from math import sqrt\n",
    "y =(((2 * x ** 2 - 3 * x ** (x+1)) / 2)+(sqrt( x + 1 ) / x ))/( 2 **x) #conta de matematica / deixar com espaço fica bem mais legivel"
   ]
  },
  {
   "cell_type": "code",
   "execution_count": 32,
   "id": "a350453f-da89-44c0-8d7d-0a45411b497e",
   "metadata": {},
   "outputs": [
    {
     "data": {
      "text/plain": [
       "-1.7834936490538904"
      ]
     },
     "execution_count": 32,
     "metadata": {},
     "output_type": "execute_result"
    }
   ],
   "source": [
    "y"
   ]
  },
  {
   "cell_type": "code",
   "execution_count": 34,
   "id": "4a963eb1-c689-46ad-b499-9d233c5e37e8",
   "metadata": {},
   "outputs": [
    {
     "name": "stdin",
     "output_type": "stream",
     "text": [
      "digite o valor 3\n"
     ]
    }
   ],
   "source": [
    "x = int(input(\"digite o valor\"))"
   ]
  },
  {
   "cell_type": "code",
   "execution_count": 36,
   "id": "df9d646e-b84a-453c-a062-038f8f00a391",
   "metadata": {},
   "outputs": [
    {
     "data": {
      "text/plain": [
       "8"
      ]
     },
     "execution_count": 36,
     "metadata": {},
     "output_type": "execute_result"
    }
   ],
   "source": [
    "x + 5"
   ]
  },
  {
   "cell_type": "code",
   "execution_count": 38,
   "id": "3b4f88bc-50b3-4644-b76a-8bdd5fec574c",
   "metadata": {},
   "outputs": [
    {
     "name": "stdout",
     "output_type": "stream",
     "text": [
      "3\n"
     ]
    }
   ],
   "source": [
    "print(x)"
   ]
  },
  {
   "cell_type": "code",
   "execution_count": null,
   "id": "578969eb-0a7a-47a6-ac41-3308cef8f8ba",
   "metadata": {},
   "outputs": [],
   "source": []
  }
 ],
 "metadata": {
  "kernelspec": {
   "display_name": "Python [conda env:anaconda3]",
   "language": "python",
   "name": "conda-env-anaconda3-py"
  },
  "language_info": {
   "codemirror_mode": {
    "name": "ipython",
    "version": 3
   },
   "file_extension": ".py",
   "mimetype": "text/x-python",
   "name": "python",
   "nbconvert_exporter": "python",
   "pygments_lexer": "ipython3",
   "version": "3.13.5"
  }
 },
 "nbformat": 4,
 "nbformat_minor": 5
}
