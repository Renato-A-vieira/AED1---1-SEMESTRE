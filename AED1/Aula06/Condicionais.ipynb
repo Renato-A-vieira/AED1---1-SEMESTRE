{
 "cells": [
  {
   "cell_type": "code",
   "execution_count": 49,
   "id": "479eeae2-8ef1-41c5-99de-011ecf9f7983",
   "metadata": {},
   "outputs": [
    {
     "name": "stdin",
     "output_type": "stream",
     "text": [
      "digite o numero 10\n",
      "digite o numero 20\n"
     ]
    },
    {
     "name": "stdout",
     "output_type": "stream",
     "text": [
      "está correto\n"
     ]
    }
   ],
   "source": [
    "a = int(input(\"digite o numero\"))\n",
    "b = int(input(\"digite o numero\"))\n",
    "x = a + b/2\n",
    "\n",
    "if x >= 10:\n",
    "    print (\"está correto\")\n",
    "else:\n",
    "    print (\"não está correto\")"
   ]
  },
  {
   "cell_type": "code",
   "execution_count": 79,
   "id": "3eeb4843-f986-4da7-8349-de7ae2b2ea43",
   "metadata": {},
   "outputs": [
    {
     "name": "stdin",
     "output_type": "stream",
     "text": [
      "fale sua idade 18\n"
     ]
    }
   ],
   "source": [
    "idade = int(input(\"fale sua idade\"))"
   ]
  },
  {
   "cell_type": "code",
   "execution_count": 83,
   "id": "e2d279b1-efcf-435c-b3a2-770842af17f8",
   "metadata": {},
   "outputs": [
    {
     "name": "stdout",
     "output_type": "stream",
     "text": [
      "maior de idade\n"
     ]
    }
   ],
   "source": [
    "if idade >= 18:\n",
    "    print(\"maior de idade\")\n",
    "else:\n",
    "    print(\"menor\")"
   ]
  },
  {
   "cell_type": "code",
   "execution_count": 127,
   "id": "700d2465-66a0-4b87-b40a-27dccb00eabe",
   "metadata": {},
   "outputs": [
    {
     "name": "stdin",
     "output_type": "stream",
     "text": [
      "digite um numero par 10\n",
      "digite um numero par 10\n"
     ]
    }
   ],
   "source": [
    "x = int(input(\"digite um numero par\"))\n",
    "y = int(input(\"digite um numero par\"))\n"
   ]
  },
  {
   "cell_type": "code",
   "execution_count": 129,
   "id": "1960e8dd-1b82-4d83-a046-8774af087bd8",
   "metadata": {},
   "outputs": [
    {
     "name": "stdout",
     "output_type": "stream",
     "text": [
      "igual\n"
     ]
    }
   ],
   "source": [
    "if x > y:\n",
    "    print(x)\n",
    "if x == y:\n",
    "    print(\"igual\")\n",
    "else:\n",
    "    print(y)\n"
   ]
  },
  {
   "cell_type": "code",
   "execution_count": 119,
   "id": "9aa678e9-79e4-4e4b-9702-37f79f939b8f",
   "metadata": {},
   "outputs": [
    {
     "name": "stdin",
     "output_type": "stream",
     "text": [
      "digite a nota 10\n",
      "digite a nota 3\n"
     ]
    },
    {
     "name": "stdout",
     "output_type": "stream",
     "text": [
      "6.5\n",
      "passou\n"
     ]
    }
   ],
   "source": [
    "nota1 = float(input(\"digite a nota\"))\n",
    "nota2 = float(input(\"digite a nota\"))\n",
    "media = (nota1 + nota2)/ 2\n",
    "print(media)\n",
    "if media >6:\n",
    "    print(\"passou\")\n",
    "else:\n",
    "    print(\"reprovou\")"
   ]
  },
  {
   "cell_type": "code",
   "execution_count": 141,
   "id": "329eb920-c552-4299-9e2f-af34836ef6b0",
   "metadata": {},
   "outputs": [
    {
     "name": "stdin",
     "output_type": "stream",
     "text": [
      "digite um numero 2\n"
     ]
    },
    {
     "name": "stdout",
     "output_type": "stream",
     "text": [
      "numero é positivo\n",
      "fim\n"
     ]
    }
   ],
   "source": [
    "numero = int(input(\"digite um numero\"))\n",
    "if numero >= 0:\n",
    "    print(\"numero é positivo\")\n",
    "print(\"fim\")"
   ]
  },
  {
   "cell_type": "code",
   "execution_count": 193,
   "id": "f635f214-b6b5-4f37-89b7-9ea3b30776c4",
   "metadata": {},
   "outputs": [
    {
     "name": "stdin",
     "output_type": "stream",
     "text": [
      "fale o nome da fruta:  kiwi\n"
     ]
    },
    {
     "name": "stdout",
     "output_type": "stream",
     "text": [
      "Não temos kiwi\n"
     ]
    }
   ],
   "source": [
    "fruta = input(\"fale o nome da fruta: \")\n",
    "if (fruta == \"Banana\"):\n",
    "    print(\"o preço da Banana é R$ 5,23\")\n",
    "elif (fruta == \"Maça\"):\n",
    "    print(\"o preço da Maça é R$ 3,23\")\n",
    "elif (fruta == \"cereja\"):\n",
    "    print(\"o preço da cereja é R$ 2,00\")\n",
    "else:\n",
    "    print(\"Não temos\", fruta)"
   ]
  },
  {
   "cell_type": "code",
   "execution_count": 213,
   "id": "aeac976d-e26d-4b05-977e-4239e2e633eb",
   "metadata": {},
   "outputs": [
    {
     "name": "stdin",
     "output_type": "stream",
     "text": [
      "Digite uma letra b\n"
     ]
    },
    {
     "name": "stdout",
     "output_type": "stream",
     "text": [
      "consoante\n"
     ]
    }
   ],
   "source": [
    "letra = input(\"Digite uma letra\").lower()\n",
    "\n",
    "if letra in ['a' , 'e' , 'i' , 'o' , 'u']:\n",
    "    print (\"Vogal\")\n",
    "elif ('a' <= letra <= 'z'):\n",
    "    print(\"consoante\")\n",
    "else:\n",
    "    print(\"fale uma letra carai\")"
   ]
  },
  {
   "cell_type": "code",
   "execution_count": 27,
   "id": "602c1bf5-22cc-494b-85af-ed0b108c15cd",
   "metadata": {},
   "outputs": [
    {
     "name": "stdin",
     "output_type": "stream",
     "text": [
      "Fale sua idade -1\n"
     ]
    },
    {
     "name": "stdout",
     "output_type": "stream",
     "text": [
      "jovem\n"
     ]
    }
   ],
   "source": [
    "idade = int(input(\"Fale sua idade\"))\n",
    "if idade <=7:\n",
    "    print(\"jovem\")\n",
    "elif idade <= 10:\n",
    "    print(\"Juvenil\")\n",
    "elif idade <= 15:\n",
    "    print(\"adolescente\")\n",
    "elif idade <= 30:\n",
    "    print(\"Adulto\")\n",
    "elif idade >=31:\n",
    "    print(\"Senhor\")\n",
    "else:\n",
    "    print(\"tu é:\" , idade)\n"
   ]
  },
  {
   "cell_type": "code",
   "execution_count": 35,
   "id": "71162872-5c77-4d5d-b385-b11eb4837873",
   "metadata": {},
   "outputs": [
    {
     "name": "stdin",
     "output_type": "stream",
     "text": [
      "numero -1\n"
     ]
    },
    {
     "name": "stdout",
     "output_type": "stream",
     "text": [
      "-1 é impar e negativo\n"
     ]
    }
   ],
   "source": [
    "n = int(input(\"numero\"))\n",
    "if (n >= 0):\n",
    "    if (n % 2) == 0:\n",
    "        print(n, \"é par é positivo\")\n",
    "    else:\n",
    "        print( n, \"é impar e positivo\")\n",
    "else:\n",
    "    if(abs(n) % 2) == 0:\n",
    "        print(n , \"é par e negativo\")\n",
    "    else:\n",
    "        print(n , \"é impar e negativo\")"
   ]
  },
  {
   "cell_type": "code",
   "execution_count": 39,
   "id": "47156ae1-5adc-43ec-9470-79d952828f3f",
   "metadata": {},
   "outputs": [
    {
     "name": "stdin",
     "output_type": "stream",
     "text": [
      "digite o valor do lado 1 do triagulo 3\n",
      "digite o valor do lado 2 do triangulo 4\n",
      "digite o valor do lado 3 do triangulo 3\n"
     ]
    },
    {
     "name": "stdout",
     "output_type": "stream",
     "text": [
      "triangulo isosceles\n"
     ]
    }
   ],
   "source": [
    "t1 = float(input(\"digite o valor do lado 1 do triagulo\"))\n",
    "t2 = float(input(\"digite o valor do lado 2 do triangulo\"))\n",
    "t3 = float(input(\"digite o valor do lado 3 do triangulo\"))\n",
    "\n",
    "if t1 == t2 == t3:\n",
    "    print(\"Triangulo Equilatero\")\n",
    "elif t1 == t2 or t1 == t3 or t2 == t3:\n",
    "    print(\"triangulo isosceles\")\n",
    "else:\n",
    "    print(\"triangulo escaleno\")"
   ]
  },
  {
   "cell_type": "code",
   "execution_count": 75,
   "id": "a351ceb9-fe8a-45b7-baa8-67cbbd916cfc",
   "metadata": {},
   "outputs": [
    {
     "name": "stdin",
     "output_type": "stream",
     "text": [
      "digite o valor do produto 14\n",
      "digite o codigo de area 2\n"
     ]
    },
    {
     "name": "stdout",
     "output_type": "stream",
     "text": [
      "O novo preço é 15.82 pela região  Norte\n"
     ]
    }
   ],
   "source": [
    "vp = float(input(\"digite o valor do produto\"))\n",
    "cd = int(input(\"digite o codigo de area\"))\n",
    "rg = \" \"\n",
    "\n",
    "if cd == 1:\n",
    "   nvp = (vp * (11/100)) + vp\n",
    "   rg = \"Sul\"\n",
    "elif cd == 2:\n",
    "     nvp = (vp * (13/100)) + vp\n",
    "     rg = \"Norte\"\n",
    "elif cd == 3:\n",
    "     nvp = (vp * (9/100))\n",
    "     rg = \"Nordeste\"\n",
    "elif cd == 4:\n",
    "     nvp = (vp * (12/100)) + vp\n",
    "     rg = \"Centro-Oeste\"\n",
    "elif cd == 5:\n",
    "     nvp = (vp * (18/100)) + vp\n",
    "     rg = \"Sudoeste\"\n",
    "else:\n",
    "    print(\"Não existe\")\n",
    "\n",
    "print(\"O novo preço é\", str(nvp),\"pela região\", str(rg))"
   ]
  },
  {
   "cell_type": "code",
   "execution_count": 1,
   "id": "763b746c-7421-4287-850d-1d5892328746",
   "metadata": {},
   "outputs": [],
   "source": [
    "import math"
   ]
  },
  {
   "cell_type": "code",
   "execution_count": null,
   "id": "742b6295-b253-4218-ac0b-23c72713bff1",
   "metadata": {},
   "outputs": [
    {
     "name": "stdin",
     "output_type": "stream",
     "text": [
      "digite o valor de a 12\n",
      "digite o valor de b 44\n"
     ]
    }
   ],
   "source": [
    "a = float(input(\"digite o valor de a\"))\n",
    "b = float(input(\"digite o valor de b\"))\n",
    "c = float(input(\"digite o valor de c\"))\n",
    "\n",
    "if a == 0:\n",
    "    print(\"error\")\n",
    "else: \n",
    "    delta = b**2 - 4 * a * c\n",
    "    print(delta)\n",
    "\n",
    "    if delta < 0:\n",
    "        print(\"não existe raiz real\")\n",
    "    else:\n",
    "        x1 = -b + delta**0.5 / (2*a)\n",
    "        x2 = -b - delta**0.5 / (2*a)\n",
    "\n",
    "        print(\"resultado de x1 =\", x1 , \"resultado de x2=\", x2)"
   ]
  },
  {
   "cell_type": "code",
   "execution_count": null,
   "id": "f756e1b5-5578-48a8-a549-0d07e77efea5",
   "metadata": {},
   "outputs": [],
   "source": []
  }
 ],
 "metadata": {
  "kernelspec": {
   "display_name": "Python 3 (ipykernel)",
   "language": "python",
   "name": "python3"
  },
  "language_info": {
   "codemirror_mode": {
    "name": "ipython",
    "version": 3
   },
   "file_extension": ".py",
   "mimetype": "text/x-python",
   "name": "python",
   "nbconvert_exporter": "python",
   "pygments_lexer": "ipython3",
   "version": "3.13.5"
  }
 },
 "nbformat": 4,
 "nbformat_minor": 5
}
