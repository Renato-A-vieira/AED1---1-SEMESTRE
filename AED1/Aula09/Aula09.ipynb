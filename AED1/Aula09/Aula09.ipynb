{
 "cells": [
  {
   "cell_type": "code",
   "execution_count": 1,
   "id": "3fd1e622-6d20-4f82-aff9-664e92ac1999",
   "metadata": {},
   "outputs": [],
   "source": [
    "from platform import python_version"
   ]
  },
  {
   "cell_type": "code",
   "execution_count": 1,
   "id": "a69b01bb-2dee-464c-a41b-a91f80f143bd",
   "metadata": {},
   "outputs": [
    {
     "name": "stdout",
     "output_type": "stream",
     "text": [
      "['arroz, feijão, frango e leite']\n"
     ]
    }
   ],
   "source": [
    "list_1 = [\"arroz, feijão, frango e leite\"]\n",
    "print(list_1)"
   ]
  },
  {
   "cell_type": "code",
   "execution_count": 3,
   "id": "210e401c-6e68-4d77-bde3-ccb62b0037c2",
   "metadata": {},
   "outputs": [
    {
     "data": {
      "text/plain": [
       "list"
      ]
     },
     "execution_count": 3,
     "metadata": {},
     "output_type": "execute_result"
    }
   ],
   "source": [
    "type(list_1)"
   ]
  },
  {
   "cell_type": "code",
   "execution_count": 9,
   "id": "1655d732-a077-4658-a8e7-f2f58e93390c",
   "metadata": {},
   "outputs": [
    {
     "name": "stdout",
     "output_type": "stream",
     "text": [
      "['arroz, feijão, frango e leite'] ['arroz', 'feijão', 'frango', 'leite']\n"
     ]
    }
   ],
   "source": [
    "print(list_1 , list_2)"
   ]
  },
  {
   "cell_type": "code",
   "execution_count": 49,
   "id": "e643bd28-1972-45e4-9b71-ff5f663f2d85",
   "metadata": {},
   "outputs": [
    {
     "name": "stdout",
     "output_type": "stream",
     "text": [
      "[1, 2, 3, 'ciencias de dados']\n"
     ]
    }
   ],
   "source": [
    "list_3 = [ 1, 2, 3, \"ciencias de dados\"]\n",
    "print(list_3)"
   ]
  },
  {
   "cell_type": "code",
   "execution_count": 59,
   "id": "d2db91f1-2ae3-4bd7-821e-ecb17766a6a7",
   "metadata": {},
   "outputs": [
    {
     "data": {
      "text/plain": [
       "4"
      ]
     },
     "execution_count": 59,
     "metadata": {},
     "output_type": "execute_result"
    }
   ],
   "source": [
    "len (list_3)"
   ]
  },
  {
   "cell_type": "code",
   "execution_count": 63,
   "id": "8373ddb7-c4c5-4254-9167-6048069d331c",
   "metadata": {},
   "outputs": [
    {
     "name": "stdout",
     "output_type": "stream",
     "text": [
      "1 2 3 ciencias de dados\n"
     ]
    }
   ],
   "source": [
    "item1 = list_3 [0]\n",
    "item2 = list_3 [1]\n",
    "item3 = list_3 [2]\n",
    "item4 = list_3 [3]\n",
    "print(item1, item2, item3, item4)"
   ]
  },
  {
   "cell_type": "code",
   "execution_count": 73,
   "id": "b7bed8a2-495f-48c4-bdee-9a57c96d4c1d",
   "metadata": {},
   "outputs": [
    {
     "name": "stdout",
     "output_type": "stream",
     "text": [
      "3 <class 'int'>\n"
     ]
    }
   ],
   "source": [
    "print(item3, type(item3))"
   ]
  },
  {
   "cell_type": "code",
   "execution_count": 13,
   "id": "d25f5a37-450e-4e93-8332-a985fd7bdd59",
   "metadata": {},
   "outputs": [],
   "source": [
    "alunos = [\"ana\", \"pedro\", \"carlos\"]\n",
    "notas = [3,5 , 4, 5]\n"
   ]
  },
  {
   "cell_type": "code",
   "execution_count": 17,
   "id": "b3579216-deb7-4fea-8ca1-421f0be11260",
   "metadata": {},
   "outputs": [
    {
     "name": "stdout",
     "output_type": "stream",
     "text": [
      "O(a) estudande ana, teve a nota 3\n",
      "O(a) estudande pedro, teve a nota 5\n",
      "O(a) estudande carlos, teve a nota 4\n"
     ]
    }
   ],
   "source": [
    "for i in range(len(alunos)):\n",
    "    print(f\"O(a) estudande {alunos[i]}, teve a nota {notas[i]}\")"
   ]
  },
  {
   "cell_type": "code",
   "execution_count": 75,
   "id": "cbd56eac-0730-4a7b-bd71-bd5de0d2368a",
   "metadata": {},
   "outputs": [
    {
     "name": "stdout",
     "output_type": "stream",
     "text": [
      "[1, 2, 3, 'ciencias de dados']\n"
     ]
    }
   ],
   "source": [
    "print(list_3)"
   ]
  },
  {
   "cell_type": "code",
   "execution_count": 77,
   "id": "db742782-0763-4c60-a005-9f716bb63c1c",
   "metadata": {},
   "outputs": [
    {
     "data": {
      "text/plain": [
       "3"
      ]
     },
     "execution_count": 77,
     "metadata": {},
     "output_type": "execute_result"
    }
   ],
   "source": [
    "list_3[2]"
   ]
  },
  {
   "cell_type": "code",
   "execution_count": 79,
   "id": "a1cc398a-0fcc-4295-bd10-5eed7af53488",
   "metadata": {},
   "outputs": [],
   "source": [
    "list_3[2] = \"tomate\""
   ]
  },
  {
   "cell_type": "code",
   "execution_count": 81,
   "id": "7dfb2201-b1f8-4f71-a668-409186c7da89",
   "metadata": {},
   "outputs": [
    {
     "data": {
      "text/plain": [
       "[1, 2, 'tomate', 'ciencias de dados']"
      ]
     },
     "execution_count": 81,
     "metadata": {},
     "output_type": "execute_result"
    }
   ],
   "source": [
    "list_3"
   ]
  },
  {
   "cell_type": "code",
   "execution_count": 83,
   "id": "2d32f031-ef97-44c5-b557-0f4968641941",
   "metadata": {},
   "outputs": [],
   "source": [
    "listas = [ [1,2,3,4] , [10,20,30,40] , [5,15,25,35] ]"
   ]
  },
  {
   "cell_type": "code",
   "execution_count": 85,
   "id": "c56f86e8-a3b5-4f60-88b0-a8d144ac9e1a",
   "metadata": {},
   "outputs": [
    {
     "name": "stdout",
     "output_type": "stream",
     "text": [
      "[[1, 2, 3, 4], [10, 20, 30, 40], [5, 15, 25, 35]]\n"
     ]
    }
   ],
   "source": [
    "print(listas)"
   ]
  },
  {
   "cell_type": "code",
   "execution_count": 87,
   "id": "a218a050-b505-4f17-b152-3280ebc3cfe1",
   "metadata": {},
   "outputs": [
    {
     "data": {
      "text/plain": [
       "3"
      ]
     },
     "execution_count": 87,
     "metadata": {},
     "output_type": "execute_result"
    }
   ],
   "source": [
    "len(listas)"
   ]
  },
  {
   "cell_type": "code",
   "execution_count": 91,
   "id": "d945f1e2-b824-4c56-a149-b7791f1ad0ee",
   "metadata": {},
   "outputs": [
    {
     "data": {
      "text/plain": [
       "range(0, 3)"
      ]
     },
     "execution_count": 91,
     "metadata": {},
     "output_type": "execute_result"
    }
   ],
   "source": [
    "range(len(listas))"
   ]
  },
  {
   "cell_type": "code",
   "execution_count": 93,
   "id": "50f9c08c-74cf-4cd2-9863-b4e0d5c25c5e",
   "metadata": {},
   "outputs": [],
   "source": [
    "a = listas[0]"
   ]
  },
  {
   "cell_type": "code",
   "execution_count": 95,
   "id": "1043fdfc-6fda-4028-b24e-499fe4fa12d9",
   "metadata": {},
   "outputs": [
    {
     "name": "stdout",
     "output_type": "stream",
     "text": [
      "[1, 2, 3, 4]\n"
     ]
    }
   ],
   "source": [
    "print(a)"
   ]
  },
  {
   "cell_type": "code",
   "execution_count": 99,
   "id": "26069318-a812-4987-a946-687f3b3f852f",
   "metadata": {},
   "outputs": [
    {
     "data": {
      "text/plain": [
       "3"
      ]
     },
     "execution_count": 99,
     "metadata": {},
     "output_type": "execute_result"
    }
   ],
   "source": [
    "listas[0][2]"
   ]
  },
  {
   "cell_type": "code",
   "execution_count": 106,
   "id": "9cb11737-6c2c-4fd8-8e04-74af6c7b850c",
   "metadata": {},
   "outputs": [
    {
     "name": "stdout",
     "output_type": "stream",
     "text": [
      "3\n"
     ]
    }
   ],
   "source": [
    "b = a[2]\n",
    "print(b)"
   ]
  },
  {
   "cell_type": "code",
   "execution_count": 114,
   "id": "166fbafb-ee14-4351-bd00-f55ab2999518",
   "metadata": {},
   "outputs": [
    {
     "name": "stdout",
     "output_type": "stream",
     "text": [
      "[5, 15, 25, 35]\n"
     ]
    }
   ],
   "source": [
    "list1 = listas[2]\n",
    "print(list1)"
   ]
  },
  {
   "cell_type": "code",
   "execution_count": 116,
   "id": "3acbf673-b2b0-4726-a319-dd888cf971e7",
   "metadata": {},
   "outputs": [
    {
     "name": "stdout",
     "output_type": "stream",
     "text": [
      "[5, 15, 25, 35, 1, 2, 3, 4]\n"
     ]
    }
   ],
   "source": [
    "print(list1 + a)"
   ]
  },
  {
   "cell_type": "code",
   "execution_count": 118,
   "id": "2bb51c82-5d19-4b9b-a972-52eb007a025b",
   "metadata": {},
   "outputs": [],
   "source": [
    "listas10 = [ [1,2,3,4] , [5,7,8,9] , [11,12,44,55] ] "
   ]
  },
  {
   "cell_type": "code",
   "execution_count": 120,
   "id": "2ab4c218-4f4b-4946-8b64-dab89c619cc8",
   "metadata": {},
   "outputs": [],
   "source": [
    "a = listas10 [1][1]"
   ]
  },
  {
   "cell_type": "code",
   "execution_count": 122,
   "id": "085341d4-c262-4a3f-8c38-7572570049f1",
   "metadata": {},
   "outputs": [],
   "source": [
    "b = listas10 [0][3]"
   ]
  },
  {
   "cell_type": "code",
   "execution_count": 126,
   "id": "61af0a9b-d8c3-4a61-afed-99c5ab4bcb2f",
   "metadata": {},
   "outputs": [],
   "source": [
    "c = listas10 [0][0] +10"
   ]
  },
  {
   "cell_type": "code",
   "execution_count": 128,
   "id": "670a160e-ae3e-46c8-92ce-01cea67b2b46",
   "metadata": {},
   "outputs": [
    {
     "name": "stdout",
     "output_type": "stream",
     "text": [
      "16.5\n"
     ]
    }
   ],
   "source": [
    "d = a + b + c /2\n",
    "print(d)"
   ]
  },
  {
   "cell_type": "code",
   "execution_count": 134,
   "id": "3c6b4724-1794-4d96-96da-590c857455d2",
   "metadata": {},
   "outputs": [],
   "source": [
    "lista_total = listas10 + listas"
   ]
  },
  {
   "cell_type": "code",
   "execution_count": 136,
   "id": "81ffe1b5-cad4-4266-99c2-3fc12f8f616c",
   "metadata": {},
   "outputs": [
    {
     "name": "stdout",
     "output_type": "stream",
     "text": [
      "[[1, 2, 3, 4], [5, 7, 8, 9], [11, 12, 44, 55], [1, 2, 3, 4], [10, 20, 30, 40], [5, 15, 25, 35]]\n"
     ]
    }
   ],
   "source": [
    "print(lista_total)"
   ]
  },
  {
   "cell_type": "code",
   "execution_count": 138,
   "id": "ccdf29dc-febe-4ae4-8873-83316739eafa",
   "metadata": {},
   "outputs": [],
   "source": [
    "lista_teste = [1,20,30,10,40]"
   ]
  },
  {
   "cell_type": "code",
   "execution_count": 140,
   "id": "ba3b6e5d-3c1b-43ed-a5a4-53ebd77e3280",
   "metadata": {},
   "outputs": [
    {
     "name": "stdout",
     "output_type": "stream",
     "text": [
      "True\n"
     ]
    }
   ],
   "source": [
    "print(10 in lista_teste)"
   ]
  },
  {
   "cell_type": "code",
   "execution_count": 142,
   "id": "ce2e9572-845d-44f9-a05c-9895f0ef9fd3",
   "metadata": {},
   "outputs": [
    {
     "name": "stdout",
     "output_type": "stream",
     "text": [
      "False\n"
     ]
    }
   ],
   "source": [
    "print(11 in lista_teste)"
   ]
  },
  {
   "cell_type": "code",
   "execution_count": 146,
   "id": "6df2fa61-b2b9-4fad-b7fc-6272c146a470",
   "metadata": {},
   "outputs": [
    {
     "data": {
      "text/plain": [
       "6"
      ]
     },
     "execution_count": 146,
     "metadata": {},
     "output_type": "execute_result"
    }
   ],
   "source": [
    "len(lista_total)"
   ]
  },
  {
   "cell_type": "code",
   "execution_count": 148,
   "id": "4f2a64b2-9d1d-451a-858e-ba77ca742a66",
   "metadata": {},
   "outputs": [
    {
     "data": {
      "text/plain": [
       "[11, 12, 44, 55]"
      ]
     },
     "execution_count": 148,
     "metadata": {},
     "output_type": "execute_result"
    }
   ],
   "source": [
    "max(lista_total)"
   ]
  },
  {
   "cell_type": "code",
   "execution_count": 150,
   "id": "2eec2391-b1a2-48b7-a86f-51ee23e62f19",
   "metadata": {},
   "outputs": [
    {
     "data": {
      "text/plain": [
       "[1, 2, 3, 4]"
      ]
     },
     "execution_count": 150,
     "metadata": {},
     "output_type": "execute_result"
    }
   ],
   "source": [
    "min(lista_total)"
   ]
  },
  {
   "cell_type": "code",
   "execution_count": 152,
   "id": "6599ae0a-7a18-4eb8-b61f-011d4f4030ab",
   "metadata": {},
   "outputs": [
    {
     "data": {
      "text/plain": [
       "40"
      ]
     },
     "execution_count": 152,
     "metadata": {},
     "output_type": "execute_result"
    }
   ],
   "source": [
    "max(lista_teste)"
   ]
  },
  {
   "cell_type": "code",
   "execution_count": 154,
   "id": "93086fca-15a5-4ca8-9bcd-4a79bd126ba0",
   "metadata": {},
   "outputs": [
    {
     "data": {
      "text/plain": [
       "1"
      ]
     },
     "execution_count": 154,
     "metadata": {},
     "output_type": "execute_result"
    }
   ],
   "source": [
    "min(lista_teste)"
   ]
  },
  {
   "cell_type": "code",
   "execution_count": 156,
   "id": "be51860e-c622-44a6-803c-eb99bfdefe6a",
   "metadata": {},
   "outputs": [
    {
     "data": {
      "text/plain": [
       "5"
      ]
     },
     "execution_count": 156,
     "metadata": {},
     "output_type": "execute_result"
    }
   ],
   "source": [
    "len(lista_teste)"
   ]
  },
  {
   "cell_type": "code",
   "execution_count": 166,
   "id": "df401a93-4881-4ed0-beaf-ca78b73a251e",
   "metadata": {},
   "outputs": [],
   "source": [
    "lista_formacao = [\"engenheiros\" , \"analistas\" , \"cientistas\" ]"
   ]
  },
  {
   "cell_type": "code",
   "execution_count": 168,
   "id": "51b58505-471b-4b3c-8f33-dfbc12c3d75a",
   "metadata": {},
   "outputs": [
    {
     "data": {
      "text/plain": [
       "['engenheiros', 'analistas', 'cientistas']"
      ]
     },
     "execution_count": 168,
     "metadata": {},
     "output_type": "execute_result"
    }
   ],
   "source": [
    "lista_formacao"
   ]
  },
  {
   "cell_type": "code",
   "execution_count": 170,
   "id": "8ecc6ab7-5135-4dd0-9242-c9984db35c18",
   "metadata": {},
   "outputs": [],
   "source": [
    "lista_formacao.append (\"eng.dados\")"
   ]
  },
  {
   "cell_type": "code",
   "execution_count": 172,
   "id": "d59c95ca-6598-4c92-8c0b-8ff2d8a14d05",
   "metadata": {},
   "outputs": [
    {
     "data": {
      "text/plain": [
       "['engenheiros', 'analistas', 'cientistas', 'eng.dados']"
      ]
     },
     "execution_count": 172,
     "metadata": {},
     "output_type": "execute_result"
    }
   ],
   "source": [
    "lista_formacao"
   ]
  },
  {
   "cell_type": "code",
   "execution_count": 174,
   "id": "cc7d8135-af35-4e5d-b3a0-10efc73b3d14",
   "metadata": {},
   "outputs": [],
   "source": [
    "lista_formacao.append (\"eng.dados\")"
   ]
  },
  {
   "cell_type": "code",
   "execution_count": 176,
   "id": "eb9ce6aa-26a0-4a35-a2b6-fac5c885a7ad",
   "metadata": {},
   "outputs": [
    {
     "data": {
      "text/plain": [
       "['engenheiros', 'analistas', 'cientistas', 'eng.dados', 'eng.dados']"
      ]
     },
     "execution_count": 176,
     "metadata": {},
     "output_type": "execute_result"
    }
   ],
   "source": [
    "lista_formacao"
   ]
  },
  {
   "cell_type": "code",
   "execution_count": 178,
   "id": "26c76367-4343-4a88-947d-cd46c5fd2e5f",
   "metadata": {},
   "outputs": [
    {
     "data": {
      "text/plain": [
       "2"
      ]
     },
     "execution_count": 178,
     "metadata": {},
     "output_type": "execute_result"
    }
   ],
   "source": [
    "lista_formacao.count(\"eng.dados\")"
   ]
  },
  {
   "cell_type": "code",
   "execution_count": 180,
   "id": "9cced5b6-7702-4ed4-8c4a-e6176311dafd",
   "metadata": {},
   "outputs": [],
   "source": [
    "lista_formacao.remove(\"eng.dados\")"
   ]
  },
  {
   "cell_type": "code",
   "execution_count": 182,
   "id": "726375cc-a063-4a92-b8d9-7c6d5f753091",
   "metadata": {},
   "outputs": [
    {
     "data": {
      "text/plain": [
       "['engenheiros', 'analistas', 'cientistas', 'eng.dados']"
      ]
     },
     "execution_count": 182,
     "metadata": {},
     "output_type": "execute_result"
    }
   ],
   "source": [
    "lista_formacao"
   ]
  },
  {
   "cell_type": "code",
   "execution_count": 184,
   "id": "71eb091e-2aa5-465c-bc16-e5a3af6a2694",
   "metadata": {},
   "outputs": [],
   "source": [
    "old_list = [1,2,3,4]"
   ]
  },
  {
   "cell_type": "code",
   "execution_count": 186,
   "id": "17bfc858-8795-4dec-a91b-290da972718e",
   "metadata": {},
   "outputs": [],
   "source": [
    "new_list = []"
   ]
  },
  {
   "cell_type": "code",
   "execution_count": 188,
   "id": "e757f2f1-c6e3-43b5-b32c-3a784cde81f4",
   "metadata": {},
   "outputs": [],
   "source": [
    "for item in old_list:\n",
    "    new_list.append(item)"
   ]
  },
  {
   "cell_type": "code",
   "execution_count": 190,
   "id": "b087a683-1b14-4f14-89e0-0b3e68dba952",
   "metadata": {},
   "outputs": [
    {
     "name": "stdout",
     "output_type": "stream",
     "text": [
      "[1, 2, 3, 4]\n"
     ]
    }
   ],
   "source": [
    "print(new_list)"
   ]
  },
  {
   "cell_type": "code",
   "execution_count": 202,
   "id": "8e50474d-c0d5-4703-8e7b-2665837f3003",
   "metadata": {},
   "outputs": [
    {
     "name": "stdin",
     "output_type": "stream",
     "text": [
      "Digite um numero, e para sair digite -1 5\n",
      "Digite um numero, e para sair digite -1 4\n",
      "Digite um numero, e para sair digite -1 7\n",
      "Digite um numero, e para sair digite -1 9\n",
      "Digite um numero, e para sair digite -1 0\n",
      "Digite um numero, e para sair digite -1 -1\n"
     ]
    },
    {
     "name": "stdout",
     "output_type": "stream",
     "text": [
      "[5, 4, 7, 9, 0]\n"
     ]
    }
   ],
   "source": [
    "lista = []\n",
    "while True:\n",
    "    n = int(input(\"Digite um numero, e para sair digite -1\"))\n",
    "    if n == -1:\n",
    "            break\n",
    "    lista.append(n)\n",
    "print(lista)"
   ]
  },
  {
   "cell_type": "code",
   "execution_count": 204,
   "id": "df68cafd-9a68-4b88-9000-86069d24c8d0",
   "metadata": {},
   "outputs": [
    {
     "data": {
      "text/plain": [
       "1"
      ]
     },
     "execution_count": 204,
     "metadata": {},
     "output_type": "execute_result"
    }
   ],
   "source": [
    "lista.index (4)"
   ]
  },
  {
   "cell_type": "code",
   "execution_count": 224,
   "id": "08a0d920-efc9-440f-98ae-8855571ab023",
   "metadata": {},
   "outputs": [
    {
     "name": "stdout",
     "output_type": "stream",
     "text": [
      "[0, 4, 5, 7, 9]\n"
     ]
    }
   ],
   "source": [
    "lista.sort()\n",
    "print(lista)"
   ]
  },
  {
   "cell_type": "code",
   "execution_count": 210,
   "id": "c8ade965-a251-46ba-8ff9-a389b3e28fe7",
   "metadata": {},
   "outputs": [
    {
     "name": "stdout",
     "output_type": "stream",
     "text": [
      "['Recife', 'Votorantim', 'Sorocaba', 'Fortaleza']\n"
     ]
    }
   ],
   "source": [
    "cidades = [\"Recife\", \"Votorantim\", \"Sorocaba\", \"Fortaleza\"]\n",
    "print(cidades)"
   ]
  },
  {
   "cell_type": "code",
   "execution_count": 214,
   "id": "773b7e6b-6358-4e95-954d-97a39412d33f",
   "metadata": {},
   "outputs": [
    {
     "data": {
      "text/plain": [
       "1"
      ]
     },
     "execution_count": 214,
     "metadata": {},
     "output_type": "execute_result"
    }
   ],
   "source": [
    "cidades.index(\"Votorantim\")"
   ]
  },
  {
   "cell_type": "code",
   "execution_count": 218,
   "id": "4fe8e453-5250-4ad7-b62f-029ba2f3ed26",
   "metadata": {},
   "outputs": [],
   "source": [
    "cidades.insert (2, \"São Paulo\")"
   ]
  },
  {
   "cell_type": "code",
   "execution_count": 220,
   "id": "258d3d06-68d7-4692-8f6f-0737997dfdf7",
   "metadata": {},
   "outputs": [
    {
     "data": {
      "text/plain": [
       "['Recife', 'Votorantim', 'São Paulo', 'Sorocaba', 'Fortaleza']"
      ]
     },
     "execution_count": 220,
     "metadata": {},
     "output_type": "execute_result"
    }
   ],
   "source": [
    "cidades"
   ]
  },
  {
   "cell_type": "code",
   "execution_count": 230,
   "id": "92b76f41-6012-45c6-b0c1-70baeb6f01a0",
   "metadata": {},
   "outputs": [
    {
     "name": "stdout",
     "output_type": "stream",
     "text": [
      "Testando \n",
      " o string em \n",
      " python\n"
     ]
    }
   ],
   "source": [
    "print(\"Testando \\n o string em \\n python\")"
   ]
  },
  {
   "cell_type": "code",
   "execution_count": 232,
   "id": "e76ae2d9-5e70-4dd0-95f1-a4fcd8930af4",
   "metadata": {},
   "outputs": [],
   "source": [
    "s = \"pypro - python profissional\""
   ]
  },
  {
   "cell_type": "code",
   "execution_count": 234,
   "id": "5da7dd3b-c3c2-4c4c-886f-e2f829650e84",
   "metadata": {},
   "outputs": [
    {
     "data": {
      "text/plain": [
       "27"
      ]
     },
     "execution_count": 234,
     "metadata": {},
     "output_type": "execute_result"
    }
   ],
   "source": [
    "len(s)"
   ]
  },
  {
   "cell_type": "code",
   "execution_count": 236,
   "id": "26b80f5c-6496-466f-9c0c-0bfab87e457e",
   "metadata": {},
   "outputs": [
    {
     "data": {
      "text/plain": [
       "str"
      ]
     },
     "execution_count": 236,
     "metadata": {},
     "output_type": "execute_result"
    }
   ],
   "source": [
    "type(s)"
   ]
  },
  {
   "cell_type": "code",
   "execution_count": 238,
   "id": "b0fb3c8b-e7ee-46bd-a6d8-afa933247bc7",
   "metadata": {},
   "outputs": [
    {
     "data": {
      "text/plain": [
       "'r'"
      ]
     },
     "execution_count": 238,
     "metadata": {},
     "output_type": "execute_result"
    }
   ],
   "source": [
    "s[3]"
   ]
  },
  {
   "cell_type": "code",
   "execution_count": 244,
   "id": "9656690b-ecca-402f-a889-1fe373369d8c",
   "metadata": {},
   "outputs": [
    {
     "data": {
      "text/plain": [
       "('o', 'p', 'r')"
      ]
     },
     "execution_count": 244,
     "metadata": {},
     "output_type": "execute_result"
    }
   ],
   "source": [
    "s[4] , s[2] , s[3]"
   ]
  },
  {
   "cell_type": "code",
   "execution_count": 246,
   "id": "faa3cfe2-c5ea-4630-9a75-3f8ddc54b8f6",
   "metadata": {},
   "outputs": [
    {
     "data": {
      "text/plain": [
       "'ypro - python profissional'"
      ]
     },
     "execution_count": 246,
     "metadata": {},
     "output_type": "execute_result"
    }
   ],
   "source": [
    "s[1:]"
   ]
  },
  {
   "cell_type": "code",
   "execution_count": 250,
   "id": "28316793-7653-439f-9bb1-b824fbfd7c37",
   "metadata": {},
   "outputs": [
    {
     "data": {
      "text/plain": [
       "'pyp'"
      ]
     },
     "execution_count": 250,
     "metadata": {},
     "output_type": "execute_result"
    }
   ],
   "source": [
    "s[:3]"
   ]
  },
  {
   "cell_type": "code",
   "execution_count": 252,
   "id": "91c4ed36-4bf9-4049-8120-cd4b519cafa3",
   "metadata": {},
   "outputs": [
    {
     "data": {
      "text/plain": [
       "'pypro - python profissional'"
      ]
     },
     "execution_count": 252,
     "metadata": {},
     "output_type": "execute_result"
    }
   ],
   "source": [
    "s[:]"
   ]
  },
  {
   "cell_type": "code",
   "execution_count": 254,
   "id": "5d4145d2-63f8-4510-b452-fbe283fdb69f",
   "metadata": {},
   "outputs": [
    {
     "data": {
      "text/plain": [
       "'pypro'"
      ]
     },
     "execution_count": 254,
     "metadata": {},
     "output_type": "execute_result"
    }
   ],
   "source": [
    "s[0:5]"
   ]
  },
  {
   "cell_type": "code",
   "execution_count": 256,
   "id": "a738fce7-862b-48fe-bdb2-9bc63f25454d",
   "metadata": {},
   "outputs": [
    {
     "data": {
      "text/plain": [
       "'pypro - python profissional'"
      ]
     },
     "execution_count": 256,
     "metadata": {},
     "output_type": "execute_result"
    }
   ],
   "source": [
    "s"
   ]
  },
  {
   "cell_type": "code",
   "execution_count": 258,
   "id": "d3ae1f92-254a-441f-aca1-b2b93220112a",
   "metadata": {},
   "outputs": [
    {
     "data": {
      "text/plain": [
       "'o-pto r'"
      ]
     },
     "execution_count": 258,
     "metadata": {},
     "output_type": "execute_result"
    }
   ],
   "source": [
    "s[4:17:2]"
   ]
  },
  {
   "cell_type": "code",
   "execution_count": 260,
   "id": "e6461788-aab5-4997-a3e6-72df4d81d02e",
   "metadata": {},
   "outputs": [
    {
     "data": {
      "text/plain": [
       "'s'"
      ]
     },
     "execution_count": 260,
     "metadata": {},
     "output_type": "execute_result"
    }
   ],
   "source": [
    "s[-6]"
   ]
  },
  {
   "cell_type": "code",
   "execution_count": 264,
   "id": "bcf8fd5d-449b-47c5-80a7-715630480f64",
   "metadata": {},
   "outputs": [
    {
     "data": {
      "text/plain": [
       "'lanoissiforp nohtyp - orpyp'"
      ]
     },
     "execution_count": 264,
     "metadata": {},
     "output_type": "execute_result"
    }
   ],
   "source": [
    "s[::-1]"
   ]
  },
  {
   "cell_type": "code",
   "execution_count": 266,
   "id": "743da8ae-b843-4b68-93cf-0c43f267dfe7",
   "metadata": {},
   "outputs": [
    {
     "data": {
      "text/plain": [
       "'ppo-pto rfsinl'"
      ]
     },
     "execution_count": 266,
     "metadata": {},
     "output_type": "execute_result"
    }
   ],
   "source": [
    "s[::2]"
   ]
  },
  {
   "cell_type": "code",
   "execution_count": 272,
   "id": "011bfcf4-a773-42c3-a6c6-e73d253168e2",
   "metadata": {},
   "outputs": [
    {
     "name": "stdin",
     "output_type": "stream",
     "text": [
      "Digite seu primeiro nome Renato\n",
      "Digite seu nome do meio Augusto\n",
      "Digite seu ultimo nome Vieira\n"
     ]
    },
    {
     "name": "stdout",
     "output_type": "stream",
     "text": [
      "Renato Augusto Vieira\n"
     ]
    }
   ],
   "source": [
    "primeiro_nome = str(input(\"Digite seu primeiro nome\"))\n",
    "segundo_nome = str(input(\"Digite seu nome do meio\"))\n",
    "terceiro_nome = str(input(\"Digite seu ultimo nome\"))\n",
    "\n",
    "nome_completo = primeiro_nome + \" \" + segundo_nome + \" \" + terceiro_nome\n",
    "\n",
    "print(nome_completo)"
   ]
  },
  {
   "cell_type": "code",
   "execution_count": 274,
   "id": "e86f22eb-61bf-482b-af5a-8f1298c1500b",
   "metadata": {},
   "outputs": [
    {
     "data": {
      "text/plain": [
       "'pypro - python profissional'"
      ]
     },
     "execution_count": 274,
     "metadata": {},
     "output_type": "execute_result"
    }
   ],
   "source": [
    "s"
   ]
  },
  {
   "cell_type": "code",
   "execution_count": 276,
   "id": "665230b8-2d10-470c-b543-4260214bf85f",
   "metadata": {},
   "outputs": [
    {
     "data": {
      "text/plain": [
       "'PYPRO - PYTHON PROFISSIONAL'"
      ]
     },
     "execution_count": 276,
     "metadata": {},
     "output_type": "execute_result"
    }
   ],
   "source": [
    "s.upper()"
   ]
  },
  {
   "cell_type": "code",
   "execution_count": 278,
   "id": "5f813d68-3192-43d0-9696-d0b1aab5a349",
   "metadata": {},
   "outputs": [
    {
     "data": {
      "text/plain": [
       "'pypro - python profissional'"
      ]
     },
     "execution_count": 278,
     "metadata": {},
     "output_type": "execute_result"
    }
   ],
   "source": [
    "s.lower()"
   ]
  },
  {
   "cell_type": "code",
   "execution_count": 282,
   "id": "8ca34183-f64f-4b99-9d2b-0f4ee64f21c3",
   "metadata": {},
   "outputs": [
    {
     "data": {
      "text/plain": [
       "['pypro', '-', 'python', 'profissional']"
      ]
     },
     "execution_count": 282,
     "metadata": {},
     "output_type": "execute_result"
    }
   ],
   "source": [
    "s.split()"
   ]
  },
  {
   "cell_type": "code",
   "execution_count": 286,
   "id": "64665c64-7fc9-45ea-83ff-fb6b1c214aa4",
   "metadata": {},
   "outputs": [
    {
     "data": {
      "text/plain": [
       "['pypro - python profission', 'l']"
      ]
     },
     "execution_count": 286,
     "metadata": {},
     "output_type": "execute_result"
    }
   ],
   "source": [
    "s.split(\"a\")"
   ]
  },
  {
   "cell_type": "code",
   "execution_count": 288,
   "id": "1dfc9660-7a39-4c9b-8113-c7b45696d7e2",
   "metadata": {},
   "outputs": [
    {
     "data": {
      "text/plain": [
       "'Pypro - python profissional'"
      ]
     },
     "execution_count": 288,
     "metadata": {},
     "output_type": "execute_result"
    }
   ],
   "source": [
    "s.capitalize()"
   ]
  },
  {
   "cell_type": "code",
   "execution_count": 294,
   "id": "69dc37e6-15e7-4ae8-86b2-74c2adf598f0",
   "metadata": {},
   "outputs": [
    {
     "data": {
      "text/plain": [
       "4"
      ]
     },
     "execution_count": 294,
     "metadata": {},
     "output_type": "execute_result"
    }
   ],
   "source": [
    "s.count('p')"
   ]
  },
  {
   "cell_type": "code",
   "execution_count": 296,
   "id": "c4cd7ab4-41ab-444f-a6c5-b62a85c43da5",
   "metadata": {},
   "outputs": [
    {
     "data": {
      "text/plain": [
       "'PYPRO - PYTHON PROFISSIONAL'"
      ]
     },
     "execution_count": 296,
     "metadata": {},
     "output_type": "execute_result"
    }
   ],
   "source": [
    "s.swapcase()"
   ]
  },
  {
   "cell_type": "code",
   "execution_count": 304,
   "id": "9c7d1709-2ac6-43c3-8235-9dd2c6a1a2d3",
   "metadata": {},
   "outputs": [
    {
     "name": "stdin",
     "output_type": "stream",
     "text": [
      "Digite a data que você quer no formato DD/MM/AA 25/02/2025\n"
     ]
    },
    {
     "name": "stdout",
     "output_type": "stream",
     "text": [
      "25022025\n"
     ]
    }
   ],
   "source": [
    "data = input(\"Digite a data que você quer no formato DD/MM/AA\")\n",
    "dia, mes , ano = data.split(\"/\")\n",
    "nova_data = dia + mes + ano\n",
    "print(nova_data)"
   ]
  },
  {
   "cell_type": "code",
   "execution_count": 308,
   "id": "7fe3f163-22c8-483a-91c4-7ced74a7be56",
   "metadata": {},
   "outputs": [
    {
     "name": "stdin",
     "output_type": "stream",
     "text": [
      "Digite uma frase AQUI Quem ler é gay e quem não ler é hetero\n"
     ]
    },
    {
     "name": "stdout",
     "output_type": "stream",
     "text": [
      "Quantidade de Vogais é  12\n"
     ]
    }
   ],
   "source": [
    "frase = input(\"Digite uma frase AQUI\")\n",
    "vogais = 'aeiouAEIOU'\n",
    "contador = 0\n",
    "for caractere in frase:\n",
    "    if caractere in vogais:\n",
    "        contador += 1\n",
    "print(\"Quantidade de Vogais é \", contador)"
   ]
  },
  {
   "cell_type": "code",
   "execution_count": 314,
   "id": "801de60c-4b5d-42ee-afd0-ac1a058d4648",
   "metadata": {},
   "outputs": [
    {
     "name": "stdin",
     "output_type": "stream",
     "text": [
      "Digite uma frase AQUI kelvin desistiu também, e o anderson meteu um kelvin e os esquilos\n"
     ]
    },
    {
     "name": "stdout",
     "output_type": "stream",
     "text": [
      "A quantidade de palavras é: 12\n"
     ]
    }
   ],
   "source": [
    "frase = input(\"Digite uma frase AQUI\")\n",
    "palavras = frase.split()\n",
    "quantidade = len(palavras)\n",
    "print(\"A quantidade de palavras é:\", quantidade)\n"
   ]
  },
  {
   "cell_type": "code",
   "execution_count": 316,
   "id": "a0171fbb-5c00-48de-945c-8a7b9eaae068",
   "metadata": {},
   "outputs": [
    {
     "name": "stdin",
     "output_type": "stream",
     "text": [
      "Digite uma Palavra Ama\n"
     ]
    },
    {
     "name": "stdout",
     "output_type": "stream",
     "text": [
      "Essa palavra e palindromo\n"
     ]
    }
   ],
   "source": [
    "palavra = input(\"Digite uma Palavra\")\n",
    "palavra = palavra.lower().strip()\n",
    "palavra_invertida = palavra[::-1]\n",
    "if palavra == palavra_invertida:\n",
    "    print (\"Essa palavra e palindromo\")\n",
    "else:\n",
    "    print(\"essa palavra não é palindromo\")"
   ]
  },
  {
   "cell_type": "code",
   "execution_count": null,
   "id": "151ad5a3-0701-4ac6-8efc-441861b496dc",
   "metadata": {},
   "outputs": [],
   "source": []
  }
 ],
 "metadata": {
  "kernelspec": {
   "display_name": "Python [conda env:base] *",
   "language": "python",
   "name": "conda-base-py"
  },
  "language_info": {
   "codemirror_mode": {
    "name": "ipython",
    "version": 3
   },
   "file_extension": ".py",
   "mimetype": "text/x-python",
   "name": "python",
   "nbconvert_exporter": "python",
   "pygments_lexer": "ipython3",
   "version": "3.12.7"
  }
 },
 "nbformat": 4,
 "nbformat_minor": 5
}
