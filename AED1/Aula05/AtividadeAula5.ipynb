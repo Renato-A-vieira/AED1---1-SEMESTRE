{
 "cells": [
  {
   "cell_type": "code",
   "execution_count": 1,
   "id": "46ab032d-2315-4c8a-8f0e-4cd34275aecf",
   "metadata": {},
   "outputs": [
    {
     "name": "stdin",
     "output_type": "stream",
     "text": [
      "x= 3\n",
      "y= 4\n"
     ]
    },
    {
     "name": "stdout",
     "output_type": "stream",
     "text": [
      "7\n"
     ]
    }
   ],
   "source": [
    "x = int(input(\"x=\"))\n",
    "y = int(input(\"y=\"))\n",
    "print(x+y)"
   ]
  },
  {
   "cell_type": "code",
   "execution_count": 35,
   "id": "4353244e-c301-481d-9a6a-dcf50e490e93",
   "metadata": {},
   "outputs": [
    {
     "name": "stdin",
     "output_type": "stream",
     "text": [
      "base 10\n",
      "altura 66\n"
     ]
    },
    {
     "name": "stdout",
     "output_type": "stream",
     "text": [
      "area é = 660.0\n"
     ]
    }
   ],
   "source": [
    "base = float(input(\"base\"))\n",
    "altura = float(input(\"altura\"))\n",
    "area = base * altura\n",
    "print(\"area é =\", area)"
   ]
  },
  {
   "cell_type": "code",
   "execution_count": 2,
   "id": "69c0f2e0-a08a-4b5b-8ea5-3266e2381e44",
   "metadata": {},
   "outputs": [
    {
     "name": "stdin",
     "output_type": "stream",
     "text": [
      "Entre com a temperatura em Cº: 31\n"
     ]
    },
    {
     "name": "stdout",
     "output_type": "stream",
     "text": [
      "A temperatura em Fº é:= 87.8\n"
     ]
    }
   ],
   "source": [
    "Celsius = float(input(\"Entre com a temperatura em Cº:\"))\n",
    "fare = (9*Celsius+160)/5\n",
    "print (\"A temperatura em Fº é:=\", fare)"
   ]
  },
  {
   "cell_type": "code",
   "execution_count": 3,
   "id": "a2784d6f-3081-4639-986f-06b770eb2312",
   "metadata": {},
   "outputs": [
    {
     "name": "stdin",
     "output_type": "stream",
     "text": [
      "Valor x1 3\n",
      "Valor y1 4\n",
      "Valor x2 4\n",
      "Valor y2 1\n"
     ]
    },
    {
     "name": "stdout",
     "output_type": "stream",
     "text": [
      "distancia = 3.1622776601683795\n"
     ]
    }
   ],
   "source": [
    "from math import pow, sqrt\n",
    "\n",
    "x1 = float(input(\"Valor x1\"))\n",
    "y1 = float(input(\"Valor y1\"))\n",
    "x2 = float(input(\"Valor x2\"))\n",
    "y2 = float(input(\"Valor y2\"))\n",
    "\n",
    "dx = x2 - x1\n",
    "dy = y2 - y1\n",
    "D = sqrt(pow(dx,2) + pow(dy,2))\n",
    "print(\"distancia =\", D)\n"
   ]
  },
  {
   "cell_type": "code",
   "execution_count": 18,
   "id": "da0ca732-6229-40b5-9cc8-2891bede2ff4",
   "metadata": {},
   "outputs": [
    {
     "name": "stdin",
     "output_type": "stream",
     "text": [
      "Diga seu Nome Renato\n"
     ]
    },
    {
     "name": "stdout",
     "output_type": "stream",
     "text": [
      "Bom dia Renato\n"
     ]
    }
   ],
   "source": [
    "nome = input(\"Diga seu Nome\")\n",
    "print(\"Bom dia\", nome)"
   ]
  },
  {
   "cell_type": "code",
   "execution_count": 29,
   "id": "fe01843a-9e6c-4267-9d1c-01e1db4dcecc",
   "metadata": {},
   "outputs": [
    {
     "name": "stdin",
     "output_type": "stream",
     "text": [
      "Digite o Ano de Nascimento 1994\n"
     ]
    },
    {
     "name": "stdout",
     "output_type": "stream",
     "text": [
      "Idade =  31\n",
      "meses =  372\n",
      "dias =  11315\n",
      "semanas = 1612\n"
     ]
    }
   ],
   "source": [
    "idade = int(input(\"Digite o Ano de Nascimento\"))\n",
    "print(\"Idade = \", 2025 - idade)\n",
    "print(\"meses = \", (2025 - idade)* 12)\n",
    "print(\"dias = \", (2025 - idade)* 365)\n",
    "print(\"semanas =\",(2025 - idade)* 52)"
   ]
  },
  {
   "cell_type": "code",
   "execution_count": 47,
   "id": "a109a9ef-1a70-46e1-9503-46af94df9a68",
   "metadata": {},
   "outputs": [
    {
     "name": "stdin",
     "output_type": "stream",
     "text": [
      "Digite o quanto ganha 2500\n"
     ]
    },
    {
     "name": "stdout",
     "output_type": "stream",
     "text": [
      "Seu novo salario e = 3125.0\n"
     ]
    }
   ],
   "source": [
    "Salario = float(input(\"Digite o quanto ganha\"))\n",
    "x= Salario * 0.25\n",
    "print(\"Seu novo salario e =\", x+Salario)"
   ]
  },
  {
   "cell_type": "code",
   "execution_count": 49,
   "id": "017f5d7b-36a1-495b-b2da-ec13fc8882a0",
   "metadata": {},
   "outputs": [
    {
     "name": "stdin",
     "output_type": "stream",
     "text": [
      "Digite seu salario 2500\n",
      "Quer 10, ou 12% de aumento? 10\n"
     ]
    },
    {
     "name": "stdout",
     "output_type": "stream",
     "text": [
      "Voce ganhou = 250.0\n",
      "Novo Salario = 2250.0\n"
     ]
    }
   ],
   "source": [
    "Salario = float(input(\"Digite seu salario\"))\n",
    "Percentual = float(input(\"Quer 10, ou 12% de aumento?\"))\n",
    "x = Salario * (Percentual/100)\n",
    "y = Salario - x\n",
    "print(\"Voce ganhou =\", x)\n",
    "print(\"Novo Salario =\", y)"
   ]
  },
  {
   "cell_type": "code",
   "execution_count": 54,
   "id": "6c63dd4c-555e-49cd-a669-f65b73af0b68",
   "metadata": {},
   "outputs": [
    {
     "name": "stdin",
     "output_type": "stream",
     "text": [
      "Digite o Valor para Investir 100000\n",
      "Por quanto meses quer investir? 34\n"
     ]
    },
    {
     "name": "stdout",
     "output_type": "stream",
     "text": [
      "Retorno = 42500.00000000001\n",
      "total = 142500.0\n"
     ]
    }
   ],
   "source": [
    "Inv = float(input(\"Digite o Valor para Investir\"))\n",
    "Mes = float(input(\"Por quanto meses quer investir?\"))\n",
    "Juros = 0.0125\n",
    "retorno = Inv * (Mes * Juros)\n",
    "total = Inv + retorno\n",
    "print(\"Retorno =\", retorno)\n",
    "print(\"total =\", total)"
   ]
  },
  {
   "cell_type": "code",
   "execution_count": 56,
   "id": "1a32b7b9-17f6-463d-a5e5-83d3cbf19592",
   "metadata": {},
   "outputs": [
    {
     "name": "stdout",
     "output_type": "stream",
     "text": [
      "total de polegadas\n",
      "pe = 120\n",
      "jardas = 360\n",
      "milha = 633600\n"
     ]
    }
   ],
   "source": [
    "polegadas = 10\n",
    "pe = 12 * polegadas\n",
    "jardas = 3 * pe\n",
    "milha = 1760 * jardas\n",
    "\n",
    "print(\"total de polegadas\")\n",
    "print(\"pe =\", pe)\n",
    "print(\"jardas =\", jardas)\n",
    "print(\"milha =\", milha)"
   ]
  },
  {
   "cell_type": "code",
   "execution_count": null,
   "id": "0baa27dc-8303-4862-bbc2-b685b1f635a1",
   "metadata": {},
   "outputs": [],
   "source": []
  }
 ],
 "metadata": {
  "kernelspec": {
   "display_name": "Python 3 (ipykernel)",
   "language": "python",
   "name": "python3"
  },
  "language_info": {
   "codemirror_mode": {
    "name": "ipython",
    "version": 3
   },
   "file_extension": ".py",
   "mimetype": "text/x-python",
   "name": "python",
   "nbconvert_exporter": "python",
   "pygments_lexer": "ipython3",
   "version": "3.13.5"
  }
 },
 "nbformat": 4,
 "nbformat_minor": 5
}
