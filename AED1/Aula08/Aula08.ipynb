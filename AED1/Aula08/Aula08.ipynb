{
 "cells": [
  {
   "cell_type": "code",
   "execution_count": null,
   "id": "65d1ee9e-5136-47d5-9750-c6c1c276e8e0",
   "metadata": {},
   "outputs": [],
   "source": []
  },
  {
   "cell_type": "code",
   "execution_count": null,
   "id": "90c9f916-0ea6-4635-bc0c-584ba07c0c46",
   "metadata": {},
   "outputs": [
    {
     "name": "stdout",
     "output_type": "stream",
     "text": [
      "Bem vindo ao jogo de adivinhação\n",
      "Tente adivinhar o numero se for capaz\n"
     ]
    },
    {
     "name": "stdin",
     "output_type": "stream",
     "text": [
      "Escolha o nível: fácil (10 tentativas) ou difícil (5 tentativas)?  fácil\n"
     ]
    },
    {
     "name": "stdout",
     "output_type": "stream",
     "text": [
      "Você tem 10 tentativas. \n"
     ]
    }
   ],
   "source": [
    "### import random\n",
    "print(\"Bem vindo ao jogo de adivinhação\")\n",
    "print(\"Tente adivinhar o numero se for capaz\")\n",
    "jogar_novamente = \"sim\"\n",
    "\n",
    "while jogar_novamente.lower() == \"sim\":\n",
    "    nivel = input(\"Escolha o nível: fácil (10 tentativas) ou difícil (5 tentativas)? \").lower()\n",
    "    if nivel == \"fácil\":\n",
    "        max_tentativas = 10\n",
    "        intervalo_min = 1\n",
    "        intervalo_max = 50\n",
    "    elif nivel == \"difícil\":\n",
    "        max_tentativas = 5\n",
    "        intervalo_min = 1\n",
    "        intervalo_max = 50\n",
    "    else:\n",
    "        print(\"Opção inválida, usando nível fácil por padrão.\")\n",
    "        max_tentativas = 10\n",
    "        intervalo_min = 1\n",
    "        intervalo_max = 50\n",
    "    num = random.randint (1, 50)\n",
    "    tenta = 0\n",
    "    max_tentativas = 10\n",
    "    print(f\"Você tem {max_tentativas} tentativas. \")\n",
    "    while tenta < max_tentativas:\n",
    "        palpite = int(input(f\"\\nTentativa {tenta+1}: \"))\n",
    "        tenta += 1\n",
    "        if num == palpite:\n",
    "            print(\"parabéns\")\n",
    "            break\n",
    "        elif palpite < num:\n",
    "            print(\"O numero é maior\")\n",
    "        else:\n",
    "            print(\"O numero é menor\")\n",
    "    \n",
    "        distancia = abs(palpite - num)\n",
    "        if distancia <= 2:\n",
    "            print(\"Você está QUENTE... \")\n",
    "        elif distancia >= 20:\n",
    "            print(\" Você está FRIO...\" )\n",
    "        else:\n",
    "            print(\" Você está morno...\")\n",
    "    jogar_novamente = input(\"Quer jogar de novo? Digite sim ou não\")\n",
    "\n",
    "\n",
    "if tenta == max_tentativas and palpite != num:\n",
    "    print(\"Suas tentativas acabaram! O número era:\", num)\n",
    "    \n",
    "              "
   ]
  },
  {
   "cell_type": "code",
   "execution_count": null,
   "id": "0da3445c-d7fe-4325-af19-8f2d0357a189",
   "metadata": {},
   "outputs": [],
   "source": []
  }
 ],
 "metadata": {
  "kernelspec": {
   "display_name": "Python [conda env:base] *",
   "language": "python",
   "name": "conda-base-py"
  },
  "language_info": {
   "codemirror_mode": {
    "name": "ipython",
    "version": 3
   },
   "file_extension": ".py",
   "mimetype": "text/x-python",
   "name": "python",
   "nbconvert_exporter": "python",
   "pygments_lexer": "ipython3",
   "version": "3.12.7"
  }
 },
 "nbformat": 4,
 "nbformat_minor": 5
}
